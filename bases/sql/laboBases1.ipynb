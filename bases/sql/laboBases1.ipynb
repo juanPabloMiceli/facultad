{
    "metadata": {
        "kernelspec": {
            "name": "SQL",
            "display_name": "SQL",
            "language": "sql"
        },
        "language_info": {
            "name": "sql",
            "version": ""
        }
    },
    "nbformat_minor": 2,
    "nbformat": 4,
    "cells": [
        {
            "cell_type": "code",
            "source": [
                "--1. Listar para cada track el nombre del mismo, el genero y el media type"
            ],
            "metadata": {
                "azdata_cell_guid": "0456e172-400c-448a-9d96-c45fbd97df0e",
                "language": "sql"
            },
            "outputs": [],
            "execution_count": null
        },
        {
            "cell_type": "code",
            "source": [
                "--2. Listar la cantidad de tracks que tiene cada genero.\n",
                "SELECT g.Name AS genero, COUNT(T.TrackId) AS cantidad\n",
                "FROM Chinook.dbo.Genre AS g\n",
                "INNER JOIN Chinook.dbo.Track t ON t.GenreId = g.GenreId\n",
                "GROUP BY g.Name\n",
                "ORDER BY cantidad ASC;"
            ],
            "metadata": {
                "azdata_cell_guid": "41d05629-4242-46f2-942e-3f73970752c9",
                "tags": [],
                "language": "sql"
            },
            "outputs": [],
            "execution_count": null
        },
        {
            "cell_type": "code",
            "source": [
                "--Obtener los artistas que no tienen albumes. Dar al menos dos soluciones distintas.\n",
                "SELECT a.Name AS artista\n",
                "FROM Chinook.dbo.Artist AS a\n",
                "LEFT OUTER JOIN Chinook.dbo.Album album ON a.ArtistId = album.ArtistId\n",
                "WHERE album.AlbumId IS NULL;\n",
                "\n",
                "SELECT a.Name AS artista\n",
                "FROM Chinook.dbo.Artist AS a\n",
                "WHERE a.ArtistId NOT IN (\n",
                "    SELECT DISTINCT Album.ArtistId FROM Chinook.dbo.Album\n",
                ");"
            ],
            "metadata": {
                "azdata_cell_guid": "81c18c84-3c05-4421-84c8-0d58d3fcf692",
                "language": "sql"
            },
            "outputs": [],
            "execution_count": null
        },
        {
            "cell_type": "code",
            "source": [
                "-- Listar el nombre y la cantidad de tracks de los artistas con mas de 50 tracks, ordenado por cantidad de tracks de forma ascendente.\n",
                "\n",
                "WITH artist_album AS (\n",
                "    SELECT artist.ArtistId, artist.Name AS artist, album.AlbumId\n",
                "    FROM Chinook.dbo.Artist artist\n",
                "    INNER JOIN Chinook.dbo.Album album ON album.ArtistId = artist.ArtistId\n",
                ")\n",
                "\n",
                "SELECT artist_album.artist, COUNT(track.TrackId) AS tracks_quantity\n",
                "FROM artist_album\n",
                "INNER JOIN Chinook.dbo.Track track ON artist_album.AlbumId = track.AlbumId\n",
                "GROUP BY artist_album.artist\n",
                "HAVING COUNT(track.TrackId) > 50\n",
                "ORDER BY tracks_quantity ASC;"
            ],
            "metadata": {
                "azdata_cell_guid": "4b416ada-7b79-46d9-8bca-f4a558bc30ad",
                "language": "sql"
            },
            "outputs": [
                {
                    "output_type": "display_data",
                    "data": {
                        "text/html": "(12 rows affected)"
                    },
                    "metadata": {}
                },
                {
                    "output_type": "display_data",
                    "data": {
                        "text/html": "Total execution time: 00:00:00.017"
                    },
                    "metadata": {}
                },
                {
                    "output_type": "execute_result",
                    "execution_count": 83,
                    "data": {
                        "application/vnd.dataresource+json": {
                            "schema": {
                                "fields": [
                                    {
                                        "name": "artist"
                                    },
                                    {
                                        "name": "tracks_quantity"
                                    }
                                ]
                            },
                            "data": [
                                {
                                    "0": "Faith No More",
                                    "1": "52"
                                },
                                {
                                    "0": "Van Halen",
                                    "1": "52"
                                },
                                {
                                    "0": "The Office",
                                    "1": "53"
                                },
                                {
                                    "0": "Various Artists",
                                    "1": "56"
                                },
                                {
                                    "0": "Lenny Kravitz",
                                    "1": "57"
                                },
                                {
                                    "0": "Pearl Jam",
                                    "1": "67"
                                },
                                {
                                    "0": "Lost",
                                    "1": "92"
                                },
                                {
                                    "0": "Deep Purple",
                                    "1": "92"
                                },
                                {
                                    "0": "Metallica",
                                    "1": "112"
                                },
                                {
                                    "0": "Led Zeppelin",
                                    "1": "114"
                                },
                                {
                                    "0": "U2",
                                    "1": "135"
                                },
                                {
                                    "0": "Iron Maiden",
                                    "1": "213"
                                }
                            ]
                        },
                        "text/html": "<table><tr><th>artist</th><th>tracks_quantity</th></tr><tr><td>Faith No More</td><td>52</td></tr><tr><td>Van Halen</td><td>52</td></tr><tr><td>The Office</td><td>53</td></tr><tr><td>Various Artists</td><td>56</td></tr><tr><td>Lenny Kravitz</td><td>57</td></tr><tr><td>Pearl Jam</td><td>67</td></tr><tr><td>Lost</td><td>92</td></tr><tr><td>Deep Purple</td><td>92</td></tr><tr><td>Metallica</td><td>112</td></tr><tr><td>Led Zeppelin</td><td>114</td></tr><tr><td>U2</td><td>135</td></tr><tr><td>Iron Maiden</td><td>213</td></tr></table>"
                    },
                    "metadata": {}
                }
            ],
            "execution_count": 83
        },
        {
            "cell_type": "code",
            "source": [
                "-- Para cada cliente obtener la cantidad de empleados que viven en la misma ciudad ordenados descendentemente por cantidad de empleados.\n",
                "\n",
                "SELECT *\n",
                "FROM Chinook.dbo.Customer customer, Chinook.dbo.Employee employee\n",
                "WHERE  customer.City = employee.City;"
            ],
            "metadata": {
                "azdata_cell_guid": "7ef3152e-7e95-4950-ac5a-fa96373d3817",
                "language": "sql"
            },
            "outputs": [
                {
                    "output_type": "display_data",
                    "data": {
                        "text/html": "(1 row affected)"
                    },
                    "metadata": {}
                },
                {
                    "output_type": "display_data",
                    "data": {
                        "text/html": "Total execution time: 00:00:00.013"
                    },
                    "metadata": {}
                },
                {
                    "output_type": "execute_result",
                    "execution_count": 86,
                    "data": {
                        "application/vnd.dataresource+json": {
                            "schema": {
                                "fields": [
                                    {
                                        "name": "CustomerId"
                                    },
                                    {
                                        "name": "FirstName"
                                    },
                                    {
                                        "name": "LastName"
                                    },
                                    {
                                        "name": "Company"
                                    },
                                    {
                                        "name": "Address"
                                    },
                                    {
                                        "name": "City"
                                    },
                                    {
                                        "name": "State"
                                    },
                                    {
                                        "name": "Country"
                                    },
                                    {
                                        "name": "PostalCode"
                                    },
                                    {
                                        "name": "Phone"
                                    },
                                    {
                                        "name": "Fax"
                                    },
                                    {
                                        "name": "Email"
                                    },
                                    {
                                        "name": "SupportRepId"
                                    },
                                    {
                                        "name": "EmployeeId"
                                    },
                                    {
                                        "name": "LastName"
                                    },
                                    {
                                        "name": "FirstName"
                                    },
                                    {
                                        "name": "Title"
                                    },
                                    {
                                        "name": "ReportsTo"
                                    },
                                    {
                                        "name": "BirthDate"
                                    },
                                    {
                                        "name": "HireDate"
                                    },
                                    {
                                        "name": "Address"
                                    },
                                    {
                                        "name": "City"
                                    },
                                    {
                                        "name": "State"
                                    },
                                    {
                                        "name": "Country"
                                    },
                                    {
                                        "name": "PostalCode"
                                    },
                                    {
                                        "name": "Phone"
                                    },
                                    {
                                        "name": "Fax"
                                    },
                                    {
                                        "name": "Email"
                                    }
                                ]
                            },
                            "data": [
                                {
                                    "0": "14",
                                    "1": "Mark",
                                    "2": "Philips",
                                    "3": "Telus",
                                    "4": "8210 111 ST NW",
                                    "5": "Edmonton",
                                    "6": "AB",
                                    "7": "Canada",
                                    "8": "T6G 2C7",
                                    "9": "+1 (780) 434-4554",
                                    "10": "+1 (780) 434-5565",
                                    "11": "mphilips12@shaw.ca",
                                    "12": "5",
                                    "13": "1",
                                    "14": "Adams",
                                    "15": "Andrew",
                                    "16": "General Manager",
                                    "17": "NULL",
                                    "18": "1962-02-18 00:00:00.000",
                                    "19": "2002-08-14 00:00:00.000",
                                    "20": "11120 Jasper Ave NW",
                                    "21": "Edmonton",
                                    "22": "AB",
                                    "23": "Canada",
                                    "24": "T5K 2N1",
                                    "25": "+1 (780) 428-9482",
                                    "26": "+1 (780) 428-3457",
                                    "27": "andrew@chinookcorp.com"
                                }
                            ]
                        },
                        "text/html": "<table><tr><th>CustomerId</th><th>FirstName</th><th>LastName</th><th>Company</th><th>Address</th><th>City</th><th>State</th><th>Country</th><th>PostalCode</th><th>Phone</th><th>Fax</th><th>Email</th><th>SupportRepId</th><th>EmployeeId</th><th>LastName</th><th>FirstName</th><th>Title</th><th>ReportsTo</th><th>BirthDate</th><th>HireDate</th><th>Address</th><th>City</th><th>State</th><th>Country</th><th>PostalCode</th><th>Phone</th><th>Fax</th><th>Email</th></tr><tr><td>14</td><td>Mark</td><td>Philips</td><td>Telus</td><td>8210 111 ST NW</td><td>Edmonton</td><td>AB</td><td>Canada</td><td>T6G 2C7</td><td>+1 (780) 434-4554</td><td>+1 (780) 434-5565</td><td>mphilips12@shaw.ca</td><td>5</td><td>1</td><td>Adams</td><td>Andrew</td><td>General Manager</td><td>NULL</td><td>1962-02-18 00:00:00.000</td><td>2002-08-14 00:00:00.000</td><td>11120 Jasper Ave NW</td><td>Edmonton</td><td>AB</td><td>Canada</td><td>T5K 2N1</td><td>+1 (780) 428-9482</td><td>+1 (780) 428-3457</td><td>andrew@chinookcorp.com</td></tr></table>"
                    },
                    "metadata": {}
                }
            ],
            "execution_count": 86
        },
        {
            "cell_type": "code",
            "source": [
                "-- Obtener el dinero recaudado por cada empleado durante cada anio. ¿Como extraer un campo de una fecha?\n",
                " \n",
                "\n",
                "WITH invoice_by_employee AS (\n",
                "    SELECT InvoiceDate, customer.CustomerId, Total, SupportRepId AS EmployeeId\n",
                "    FROM Chinook.dbo.Invoice invoice\n",
                "    INNER JOIN Chinook.dbo.Customer customer ON customer.CustomerId = invoice.CustomerId\n",
                "    INNER JOIN Chinook.dbo.Employee employee ON employee.EmployeeId = customer.SupportRepId\n",
                ")\n",
                "-- SELECT * FROM invoice_by_employee;\n",
                "SELECT EmployeeId, SUM(Total) AS Tarasca, YEAR(InvoiceDate) AS 'Year'\n",
                "FROM invoice_by_employee\n",
                "GROUP BY YEAR(InvoiceDate), EmployeeId;"
            ],
            "metadata": {
                "azdata_cell_guid": "54d276f1-37f2-498c-a98e-e6bd321c7743",
                "tags": [],
                "language": "sql"
            },
            "outputs": [
                {
                    "output_type": "display_data",
                    "data": {
                        "text/html": "(15 rows affected)"
                    },
                    "metadata": {}
                },
                {
                    "output_type": "display_data",
                    "data": {
                        "text/html": "Total execution time: 00:00:00.205"
                    },
                    "metadata": {}
                },
                {
                    "output_type": "execute_result",
                    "metadata": {},
                    "execution_count": 15,
                    "data": {
                        "application/vnd.dataresource+json": {
                            "schema": {
                                "fields": [
                                    {
                                        "name": "EmployeeId"
                                    },
                                    {
                                        "name": "Tarasca"
                                    },
                                    {
                                        "name": "Year"
                                    }
                                ]
                            },
                            "data": [
                                {
                                    "0": "3",
                                    "1": "123.75",
                                    "2": "2009"
                                },
                                {
                                    "0": "3",
                                    "1": "221.92",
                                    "2": "2010"
                                },
                                {
                                    "0": "3",
                                    "1": "184.34",
                                    "2": "2011"
                                },
                                {
                                    "0": "3",
                                    "1": "146.60",
                                    "2": "2012"
                                },
                                {
                                    "0": "3",
                                    "1": "156.43",
                                    "2": "2013"
                                },
                                {
                                    "0": "4",
                                    "1": "161.37",
                                    "2": "2009"
                                },
                                {
                                    "0": "4",
                                    "1": "122.76",
                                    "2": "2010"
                                },
                                {
                                    "0": "4",
                                    "1": "125.77",
                                    "2": "2011"
                                },
                                {
                                    "0": "4",
                                    "1": "197.20",
                                    "2": "2012"
                                },
                                {
                                    "0": "4",
                                    "1": "168.30",
                                    "2": "2013"
                                },
                                {
                                    "0": "5",
                                    "1": "164.34",
                                    "2": "2009"
                                },
                                {
                                    "0": "5",
                                    "1": "136.77",
                                    "2": "2010"
                                },
                                {
                                    "0": "5",
                                    "1": "159.47",
                                    "2": "2011"
                                },
                                {
                                    "0": "5",
                                    "1": "133.73",
                                    "2": "2012"
                                },
                                {
                                    "0": "5",
                                    "1": "125.85",
                                    "2": "2013"
                                }
                            ]
                        },
                        "text/html": [
                            "<table>",
                            "<tr><th>EmployeeId</th><th>Tarasca</th><th>Year</th></tr>",
                            "<tr><td>3</td><td>123.75</td><td>2009</td></tr>",
                            "<tr><td>3</td><td>221.92</td><td>2010</td></tr>",
                            "<tr><td>3</td><td>184.34</td><td>2011</td></tr>",
                            "<tr><td>3</td><td>146.60</td><td>2012</td></tr>",
                            "<tr><td>3</td><td>156.43</td><td>2013</td></tr>",
                            "<tr><td>4</td><td>161.37</td><td>2009</td></tr>",
                            "<tr><td>4</td><td>122.76</td><td>2010</td></tr>",
                            "<tr><td>4</td><td>125.77</td><td>2011</td></tr>",
                            "<tr><td>4</td><td>197.20</td><td>2012</td></tr>",
                            "<tr><td>4</td><td>168.30</td><td>2013</td></tr>",
                            "<tr><td>5</td><td>164.34</td><td>2009</td></tr>",
                            "<tr><td>5</td><td>136.77</td><td>2010</td></tr>",
                            "<tr><td>5</td><td>159.47</td><td>2011</td></tr>",
                            "<tr><td>5</td><td>133.73</td><td>2012</td></tr>",
                            "<tr><td>5</td><td>125.85</td><td>2013</td></tr>",
                            "</table>"
                        ]
                    }
                }
            ],
            "execution_count": 15
        },
        {
            "cell_type": "code",
            "source": [
                "-- Obtener la cantidad de pistas de audio que tengan una duracion superior a la duracion promedio de todas las pistas de audio. \n",
                "-- Ademas, obtener la sumatoria de la duracion de todas esas pistas en minutos.\n",
                "\n",
                "\n",
                "WITH mayores_a_la_media AS (\n",
                "    SELECT Track.TrackId, Track.Milliseconds FROM Chinook.dbo.Track\n",
                "    INNER JOIN Chinook.dbo.MediaType ON MediaType.MediaTypeId = Track.MediaTypeId\n",
                "    WHERE \n",
                "        Milliseconds > (SELECT AVG(Milliseconds) FROM Chinook.dbo.Track)\n",
                "        AND MediaType.Name LIKE '%audio%' \n",
                ")\n",
                "SELECT COUNT(*) AS Total, (SUM(Milliseconds) / 60000) AS DuracionTotal \n",
                "FROM mayores_a_la_media;"
            ],
            "metadata": {
                "language": "sql",
                "azdata_cell_guid": "89c052e4-eb0f-4c5a-92c3-76d50827b458"
            },
            "outputs": [
                {
                    "output_type": "display_data",
                    "data": {
                        "text/html": "(1 row affected)"
                    },
                    "metadata": {}
                },
                {
                    "output_type": "display_data",
                    "data": {
                        "text/html": "Total execution time: 00:00:00.148"
                    },
                    "metadata": {}
                },
                {
                    "output_type": "execute_result",
                    "metadata": {},
                    "execution_count": 50,
                    "data": {
                        "application/vnd.dataresource+json": {
                            "schema": {
                                "fields": [
                                    {
                                        "name": "Total"
                                    },
                                    {
                                        "name": "DuracionTotal"
                                    }
                                ]
                            },
                            "data": [
                                {
                                    "0": "282",
                                    "1": "2453"
                                }
                            ]
                        },
                        "text/html": [
                            "<table>",
                            "<tr><th>Total</th><th>DuracionTotal</th></tr>",
                            "<tr><td>282</td><td>2453</td></tr>",
                            "</table>"
                        ]
                    }
                }
            ],
            "execution_count": 50
        },
        {
            "cell_type": "code",
            "source": [
                "-- 8. (a) Crear una vista que devuelva las playlists que tienen al menos una\n",
                "-- pista del genero “Rock”.\n",
                "\n",
                "\n",
                "-- IF OBJECT_ID('RockyPlaylists', 'V') IS NOT NULL\n",
                "-- DROP VIEW RockyPlaylists\n",
                "-- GO\n",
                "\n",
                "CREATE VIEW RockPlaylists AS (\n",
                "    SELECT Playlist.PlaylistId, Playlist.Name AS PlaylistName \n",
                "    FROM Chinook.dbo.Playlist\n",
                "    WHERE PlaylistId  IN (\n",
                "        SELECT PlaylistTrack.PlaylistId \n",
                "        FROM Chinook.dbo.PlaylistTrack\n",
                "        INNER JOIN Chinook.dbo.Track ON Track.TrackId = PlaylistTrack.TrackId\n",
                "        INNER JOIN Chinook.dbo.Genre ON Track.GenreId = Genre.GenreId\n",
                "        WHERE Genre.Name = 'Rock'\n",
                "    )\n",
                ");"
            ],
            "metadata": {
                "language": "sql",
                "azdata_cell_guid": "3f639cf5-8c20-4991-91bf-48873e2f8150"
            },
            "outputs": [
                {
                    "output_type": "error",
                    "evalue": "Msg 2714, Level 16, State 3, Procedure RockPlaylists, Line 9\nThere is already an object named 'RockPlaylists' in the database.",
                    "ename": "",
                    "traceback": []
                },
                {
                    "output_type": "display_data",
                    "data": {
                        "text/html": "Total execution time: 00:00:00.121"
                    },
                    "metadata": {}
                }
            ],
            "execution_count": 60
        },
        {
            "cell_type": "code",
            "source": [
                "-- (b) Obtener de forma concisa la cantidad de playlists que no poseen\n",
                "-- pistas de dicho genero.\n",
                "\n",
                "SELECT COUNT(*) AS NonRockPlaylists\n",
                "FROM Chinook.dbo.Playlist\n",
                "WHERE Playlist.PlaylistId NOT IN (\n",
                "    SELECT RockPlaylists.PlaylistId \n",
                "    FROM RockPlaylists\n",
                ");\n",
                ""
            ],
            "metadata": {
                "language": "sql",
                "azdata_cell_guid": "b844bd3d-224f-49de-b6c5-b4367b75be25",
                "tags": []
            },
            "outputs": [
                {
                    "output_type": "display_data",
                    "data": {
                        "text/html": "(1 row affected)"
                    },
                    "metadata": {}
                },
                {
                    "output_type": "display_data",
                    "data": {
                        "text/html": "Total execution time: 00:00:00.187"
                    },
                    "metadata": {}
                },
                {
                    "output_type": "execute_result",
                    "metadata": {},
                    "execution_count": 65,
                    "data": {
                        "application/vnd.dataresource+json": {
                            "schema": {
                                "fields": [
                                    {
                                        "name": "NonRockPlaylists"
                                    }
                                ]
                            },
                            "data": [
                                {
                                    "0": "13"
                                }
                            ]
                        },
                        "text/html": [
                            "<table>",
                            "<tr><th>NonRockPlaylists</th></tr>",
                            "<tr><td>13</td></tr>",
                            "</table>"
                        ]
                    }
                }
            ],
            "execution_count": 65
        },
        {
            "cell_type": "code",
            "source": [
                "-- 9. Obtener las playlists mas caras. (Ayuda: primero obtener el ‘precio’\n",
                "-- de cada playlist.)\n",
                "WITH PrecioPorPlaylist AS (\n",
                "    SELECT Playlist.PlaylistId, SUM(Track.UnitPrice) AS Precio FROM Chinook.dbo.PlaylistTrack\n",
                "    INNER JOIN Chinook.dbo.Playlist ON Playlist.PlaylistId = PlaylistTrack.PlaylistId\n",
                "    INNER JOIN Chinook.dbo.Track ON Track.TrackId = PlaylistTrack.TrackId\n",
                "    GROUP BY Playlist.PlaylistId\n",
                ")\n",
                "SELECT *\n",
                "FROM PrecioPorPlaylist\n",
                "WHERE PrecioPorPlaylist.Precio = (\n",
                "    SELECT MAX(PrecioPorPlaylist.Precio) FROM PrecioPorPlaylist\n",
                ")"
            ],
            "metadata": {
                "language": "sql",
                "azdata_cell_guid": "01caadd3-dffa-49f9-9702-6863453b4ab9"
            },
            "outputs": [
                {
                    "output_type": "display_data",
                    "data": {
                        "text/html": "(2 rows affected)"
                    },
                    "metadata": {}
                },
                {
                    "output_type": "display_data",
                    "data": {
                        "text/html": "Total execution time: 00:00:00.165"
                    },
                    "metadata": {}
                },
                {
                    "output_type": "execute_result",
                    "metadata": {},
                    "execution_count": 74,
                    "data": {
                        "application/vnd.dataresource+json": {
                            "schema": {
                                "fields": [
                                    {
                                        "name": "PlaylistId"
                                    },
                                    {
                                        "name": "Precio"
                                    }
                                ]
                            },
                            "data": [
                                {
                                    "0": "1",
                                    "1": "3257.10"
                                },
                                {
                                    "0": "8",
                                    "1": "3257.10"
                                }
                            ]
                        },
                        "text/html": [
                            "<table>",
                            "<tr><th>PlaylistId</th><th>Precio</th></tr>",
                            "<tr><td>1</td><td>3257.10</td></tr>",
                            "<tr><td>8</td><td>3257.10</td></tr>",
                            "</table>"
                        ]
                    }
                }
            ],
            "execution_count": 74
        }
    ]
}