{
 "cells": [
  {
   "cell_type": "markdown",
   "metadata": {
    "colab_type": "text",
    "id": "eyjdLr-rrJqy"
   },
   "source": [
    "\n",
    "# Taller 1 - Métodos Numéricos\n",
    "## 2020 - 2do cuatrimestre\n",
    "### Objetivo\n",
    "\n",
    "El objetivo del trabajo es completar los siguientes puntos relacionados con los temas de factorización LU, de Cholesky y matrices ortogonales. \n",
    "\n",
    "La idea es ejercitar tanto los conceptos teóricos como poder llevarlos a la práctica usando `numpy`\n",
    "\n",
    "#### Evaluación:\n",
    "\n",
    "- Implementar cada uno de los siguientes ejercicios, haciendo que corran los respectivos tests.\n",
    "\n",
    "- Coloquio con los docentes durante la clase (preguntas sobre el enunciado y el código). Justificar las respuestas\n"
   ]
  },
  {
   "cell_type": "markdown",
   "metadata": {
    "colab_type": "text",
    "id": "YLjNEquttHKa"
   },
   "source": [
    "# Ejercicio 0\n",
    "## Precalentamiento en Numpy\n",
    "\n",
    "En estos ejercicios vamos a trabajar un poco con `numpy` para afianzar su uso en para lo que viene luego.\n",
    "\n",
    "Arranquemos con algunos fáciles:"
   ]
  },
  {
   "cell_type": "markdown",
   "metadata": {
    "colab_type": "text",
    "id": "1Kpwrh_LwOeg"
   },
   "source": [
    "### 0.1.1: Creación de matriz\n",
    "\n",
    "Crear la siguiente matriz usando [`np.array`](https://docs.scipy.org/doc/numpy/reference/generated/numpy.array.html), consultar su tipo y dimensión.\n",
    "\n",
    "$$\n",
    "A =\n",
    "\\begin{pmatrix}\n",
    "\t1 & 2 & 3 \\\\\n",
    "    4 & 5 & 6 \\\\\n",
    "\t7 & 8 & 9\n",
    "\\end{pmatrix}\n",
    "$$\n",
    "\n"
   ]
  },
  {
   "cell_type": "code",
   "execution_count": 1,
   "metadata": {
    "colab": {
     "base_uri": "https://localhost:8080/",
     "height": 71
    },
    "colab_type": "code",
    "id": "MBTbHz7qweRY",
    "outputId": "5d4fd7df-c04c-4dab-f2cd-4cee6f608e27"
   },
   "outputs": [
    {
     "name": "stdout",
     "output_type": "stream",
     "text": [
      "<class 'numpy.ndarray'>\n",
      "int64\n",
      "(3, 3)\n"
     ]
    }
   ],
   "source": [
    "import numpy as np\n",
    "\n",
    "\n",
    "\"\"\"\n",
    "TODO: Crear matriz A\n",
    "\"\"\"\n",
    "A = np.array([[1,2,3],\n",
    "              [4,5,6],\n",
    "              [7,8,9]])\n",
    "\n",
    "print(type(A))\n",
    "print(A.dtype)\n",
    "print(A.shape)"
   ]
  },
  {
   "cell_type": "markdown",
   "metadata": {
    "colab_type": "text",
    "id": "vi9k_SjlxcWz"
   },
   "source": [
    "### 0.1.2: Creación de matriz nula\n",
    "\n",
    "Crear una matriz de ceros de $\\mathbb{R}$<sup>$3\\times3$</sup>. \n",
    "\n",
    "**Nota:** Usar la función [np.zeros](https://docs.scipy.org/doc/numpy/reference/generated/numpy.zeros.html)"
   ]
  },
  {
   "cell_type": "code",
   "execution_count": 2,
   "metadata": {
    "colab": {},
    "colab_type": "code",
    "id": "-4pUY3s8yGNd"
   },
   "outputs": [
    {
     "data": {
      "text/plain": [
       "array([[0., 0., 0.],\n",
       "       [0., 0., 0.],\n",
       "       [0., 0., 0.]])"
      ]
     },
     "execution_count": 2,
     "metadata": {},
     "output_type": "execute_result"
    }
   ],
   "source": [
    "\"\"\"\n",
    "TODO: Crear matriz de ceros\n",
    "\"\"\"\n",
    "\n",
    "B = np.zeros(shape=(3,3))\n",
    "\n",
    "assert(B.shape == (3, 3))\n",
    "B"
   ]
  },
  {
   "cell_type": "markdown",
   "metadata": {
    "colab_type": "text",
    "id": "CxugrIKZl6Ev"
   },
   "source": [
    "### 0.1.3: Creación de matriz identidad\n",
    "\n",
    "Crear una matriz identidad de $\\mathbb{R}$<sup>$3 \\times 3$</sup>.\n",
    "\n",
    "**Nota:** Usar la función [np.eye](https://docs.scipy.org/doc/numpy/reference/generated/numpy.eye.html).\n"
   ]
  },
  {
   "cell_type": "code",
   "execution_count": 3,
   "metadata": {
    "colab": {
     "base_uri": "https://localhost:8080/",
     "height": 71
    },
    "colab_type": "code",
    "id": "qymqENRomPiH",
    "outputId": "eead1f1d-dbc6-4d79-9c2f-0f9fb56a449f"
   },
   "outputs": [
    {
     "data": {
      "text/plain": [
       "array([[1., 0., 0.],\n",
       "       [0., 1., 0.],\n",
       "       [0., 0., 1.]])"
      ]
     },
     "execution_count": 3,
     "metadata": {},
     "output_type": "execute_result"
    }
   ],
   "source": [
    "\"\"\"\n",
    "TODO: Crear matriz identidad\n",
    "\"\"\"\n",
    "B = np.eye(3)\n",
    "\n",
    "B"
   ]
  },
  {
   "cell_type": "markdown",
   "metadata": {},
   "source": [
    "## 0.1.4: Iterar sobre una matriz\n",
    "\n",
    "Imprimir cada elemento de la matriz A (de izquierda a derecha, de arriba hacia abajo)\n",
    "\n",
    "Usar [range](https://docs.python.org/3.6/library/stdtypes.html#typesseq-range) y [np.shape](https://docs.python.org/3.6/library/stdtypes.html#typesseq-range)"
   ]
  },
  {
   "cell_type": "code",
   "execution_count": 4,
   "metadata": {},
   "outputs": [
    {
     "name": "stdout",
     "output_type": "stream",
     "text": [
      "A[0, 0] --> 1\n",
      "A[0, 1] --> 2\n",
      "A[0, 2] --> 3\n",
      "A[1, 0] --> 4\n",
      "A[1, 1] --> 5\n",
      "A[1, 2] --> 6\n",
      "A[2, 0] --> 7\n",
      "A[2, 1] --> 8\n",
      "A[2, 2] --> 9\n"
     ]
    }
   ],
   "source": [
    "\"\"\"\n",
    "TODO: Completar \n",
    "\"\"\"\n",
    "\n",
    "for i in range(A.shape[0]):\n",
    "    for j in range(A.shape[1]):\n",
    "        print(f\"A[{i}, {j}] --> {A[i][j]}\")"
   ]
  },
  {
   "cell_type": "markdown",
   "metadata": {
    "colab_type": "text",
    "id": "Z2LB4mYx93ga"
   },
   "source": [
    "### 0.2: Operaciones\n",
    "\n",
    "Vamos a hacer algunas operaciones sobre matrices. Sean $A$ y $B$ las siguientes matrices:"
   ]
  },
  {
   "cell_type": "code",
   "execution_count": 5,
   "metadata": {
    "colab": {},
    "colab_type": "code",
    "id": "ZlFxJ7PH-coP"
   },
   "outputs": [],
   "source": [
    "A = np.array([\n",
    "    [1, 2, 3],\n",
    "    [4, 5, 6],\n",
    "    [7, 8, 9]\n",
    "])\n",
    "\n",
    "B = np.array([\n",
    "    [1, 1, 1],\n",
    "    [0, 1, 1],\n",
    "    [0, 0, 1]\n",
    "])"
   ]
  },
  {
   "cell_type": "markdown",
   "metadata": {},
   "source": [
    "### 0.2.1 Suma de matrices\n",
    "\n",
    "Calcular $C = A + B$"
   ]
  },
  {
   "cell_type": "code",
   "execution_count": 9,
   "metadata": {},
   "outputs": [
    {
     "name": "stdout",
     "output_type": "stream",
     "text": [
      "[[ 2  3  4]\n",
      " [ 4  6  7]\n",
      " [ 7  8 10]]\n",
      "[[ 2  3  4]\n",
      " [ 4  6  7]\n",
      " [ 7  8 10]]\n"
     ]
    }
   ],
   "source": [
    "\"\"\"\n",
    "TODO: Completar código\n",
    "\"\"\"\n",
    "\n",
    "#Método 1: iterativamente\n",
    "\n",
    "C = np.zeros((3, 3), dtype=int)\n",
    "\n",
    "for row in range(A.shape[0]):\n",
    "    for col in range(A.shape[1]):\n",
    "        C[row, col] = A[row, col] + B[row, col]\n",
    "\n",
    "print(C)\n",
    "# Método 2: vectorialmente (mucho mejor!)\n",
    "C = A+B\n",
    "print(C)"
   ]
  },
  {
   "cell_type": "markdown",
   "metadata": {
    "colab_type": "text",
    "id": "3LQyK0Y7-w2N"
   },
   "source": [
    "### 0.2.1 Multiplicación de matrices\n",
    "\n",
    "Calcular $C = A B$.\n",
    "\n",
    "**Nota:** Ver documentación de [np.matmul](https://docs.scipy.org/doc/numpy/reference/generated/numpy.matmul.html#numpy.matmul) (función que implementa el operador `@`)."
   ]
  },
  {
   "cell_type": "code",
   "execution_count": 12,
   "metadata": {
    "colab": {},
    "colab_type": "code",
    "id": "g_R9cLfj-_Y3"
   },
   "outputs": [
    {
     "name": "stdout",
     "output_type": "stream",
     "text": [
      "[[ 1  3  6]\n",
      " [ 4  9 15]\n",
      " [ 7 15 24]]\n",
      "[[ 1  3  6]\n",
      " [ 4  9 15]\n",
      " [ 7 15 24]]\n"
     ]
    }
   ],
   "source": [
    "\"\"\"\n",
    "TODO: Calcular el producto de A y B\n",
    "\"\"\"\n",
    "\n",
    "# Método 1\n",
    "\n",
    "C = np.zeros((3, 3), dtype=int)\n",
    "\n",
    "for row in range(C.shape[0]):\n",
    "    for col in range(C.shape[1]):\n",
    "        for i in range(A.shape[1]):\n",
    "            C[row, col] += A[row, i]* B[i, col]\n",
    "\n",
    "print(C)\n",
    "# Método 2: mejor\n",
    "C = A @ B\n",
    "print(C)\n",
    "\n",
    "assert(np.allclose(C, np.array([\n",
    "    [1, 3, 6],\n",
    "    [4, 9, 15],\n",
    "    [7, 15, 24]\n",
    "])))"
   ]
  },
  {
   "cell_type": "markdown",
   "metadata": {
    "colab_type": "text",
    "id": "Y7nVRAg4xzwK"
   },
   "source": [
    "### 0.3: Igualdad de matrices:\n",
    "\n",
    "\n",
    "\n",
    "\n",
    "\n",
    "![alt text](https://pm1.narvii.com/5991/b3ff9d95cc8cd7916b1d1b432fcd3bf79b6a62e2_hq.jpg)\n",
    "\n",
    "**Nota**: Para los que no hayan visto \"Indiana Jones y la última Cruzada\": el protagonista llega a un lugar protegido por un templario donde hay muchas copas, y sólo una es el \"Santo Grial\".\n",
    "\n",
    "Pueden ver la secuencia acá: en [español](https://www.youtube.com/watch?v=-EvzYURFdR0&t=73s) o el [original](https://www.youtube.com/watch?v=A0TalLrtZ24&t=15s).\n",
    "\n",
    "\n",
    "\n",
    "\n",
    "Acá, también tenemos que elegir sabiamente...\n",
    "\n",
    "\n",
    "Sean dos matrices, $B$ y $C$, producto de distintos cálculos. ¿Cómo podemos verificar que son iguales?\n"
   ]
  },
  {
   "cell_type": "code",
   "execution_count": 13,
   "metadata": {
    "colab": {},
    "colab_type": "code",
    "id": "BBJgg8WWyTBT"
   },
   "outputs": [],
   "source": [
    "A = np.array([\n",
    "    [.1, 0, 0],\n",
    "    [0, .1, 0],\n",
    "    [0, 0, .1],\n",
    "], dtype=\"float\")\n",
    "\n",
    "B = A + A + A\n",
    "\n",
    "C = np.array([\n",
    "    [.3, 0, 0],\n",
    "    [0, .3, 0],\n",
    "    [0, 0, .3],\n",
    "], dtype=\"float\")"
   ]
  },
  {
   "cell_type": "markdown",
   "metadata": {
    "colab_type": "text",
    "id": "_rTl3w7QYqtZ"
   },
   "source": [
    "Primero, imprimámoslas para ver qué tienen..."
   ]
  },
  {
   "cell_type": "code",
   "execution_count": 14,
   "metadata": {
    "colab": {
     "base_uri": "https://localhost:8080/",
     "height": 161
    },
    "colab_type": "code",
    "id": "9GWpcbNE7CwD",
    "outputId": "7a111d4e-a075-447e-e315-7c57128bdd37"
   },
   "outputs": [
    {
     "name": "stdout",
     "output_type": "stream",
     "text": [
      "B = \n",
      " [[0.3 0.  0. ]\n",
      " [0.  0.3 0. ]\n",
      " [0.  0.  0.3]]\n",
      "C = \n",
      "[[0.3 0.  0. ]\n",
      " [0.  0.3 0. ]\n",
      " [0.  0.  0.3]]\n"
     ]
    }
   ],
   "source": [
    "print(f\"B = \\n {B}\")\n",
    "print(f\"C = \\n{C}\")\n"
   ]
  },
  {
   "cell_type": "markdown",
   "metadata": {
    "colab_type": "text",
    "id": "JAdiWhen64-6"
   },
   "source": [
    "¡Fantástico, todo parece andar bien! Veamos ahora si `B == C`"
   ]
  },
  {
   "cell_type": "code",
   "execution_count": 15,
   "metadata": {
    "colab": {
     "base_uri": "https://localhost:8080/",
     "height": 35
    },
    "colab_type": "code",
    "id": "tCJjjHHx449Q",
    "outputId": "c189f274-d280-4557-ab3a-a15f2ff47742"
   },
   "outputs": [
    {
     "data": {
      "text/plain": [
       "numpy.ndarray"
      ]
     },
     "execution_count": 15,
     "metadata": {},
     "output_type": "execute_result"
    }
   ],
   "source": [
    "result = B == C\n",
    "\n",
    "type(result)"
   ]
  },
  {
   "cell_type": "markdown",
   "metadata": {
    "colab_type": "text",
    "id": "95-PgSCZ465B"
   },
   "source": [
    "El resultado es un array, ya que `B == C` se efectúa elemento a elemento. \n",
    "\n",
    "No queremos eso. Podemos entonces hacer `(A == A.T).all()` que, dada una matriz de booleanos, verifica si todos sus elementos son `True`."
   ]
  },
  {
   "cell_type": "code",
   "execution_count": 16,
   "metadata": {
    "colab": {
     "base_uri": "https://localhost:8080/",
     "height": 35
    },
    "colab_type": "code",
    "id": "Er4nmeOq6GEK",
    "outputId": "fbe7ed30-14af-49bb-a971-60ab2deceadb"
   },
   "outputs": [
    {
     "data": {
      "text/plain": [
       "False"
      ]
     },
     "execution_count": 16,
     "metadata": {},
     "output_type": "execute_result"
    }
   ],
   "source": [
    "(B == C).all()"
   ]
  },
  {
   "cell_type": "markdown",
   "metadata": {
    "colab_type": "text",
    "id": "6OGdOQLp0ISO"
   },
   "source": [
    "Las dos matrices son distintas? 😱\n",
    "\n",
    "Hemos cometido uno de los pecados capitales de Métodos Numéricos: comparación por igualdad entre dos números de punto flotante.\n",
    "\n",
    "![](https://media1.tenor.com/images/4988bf571adbd4edc5df437a8530eba4/tenor.gif?itemid=5056977 \"chess\")\n",
    "\n",
    "\n",
    "### IMPORTANTE: NUNCA COMPARAR PUNTOS FLOTANTES POR IGUALDAD\n",
    "\n",
    "Recordemos que, producto de la limitada precisión de estos números, siempre debemos comparar con cierta \"tolerancia\". `numpy` nos provee de una función que nos permite hacer esto: [np.allclose](https://docs.scipy.org/doc/numpy/reference/generated/numpy.allclose.html)\n",
    "\n",
    "**Nota**: Si quieren entender un poco más algunas sutilezas de cómo Python maneja los puntos flotantes (más allá del estandar de la IEEE) pueden ver [este link](https://docs.python.org/3/tutorial/floatingpoint.html)."
   ]
  },
  {
   "cell_type": "code",
   "execution_count": 17,
   "metadata": {
    "colab": {
     "base_uri": "https://localhost:8080/",
     "height": 35
    },
    "colab_type": "code",
    "id": "4Zeiu-oK0F7G",
    "outputId": "bae9bcde-fa95-4d17-ff38-0bcc27656127"
   },
   "outputs": [
    {
     "data": {
      "text/plain": [
       "True"
      ]
     },
     "execution_count": 17,
     "metadata": {},
     "output_type": "execute_result"
    }
   ],
   "source": [
    "# Esto es lo mismo que hacer \n",
    "# np.isclose(B, C).all()\n",
    "np.allclose(B, C)"
   ]
  },
  {
   "cell_type": "markdown",
   "metadata": {
    "colab_type": "text",
    "id": "PDDW16Wd807a"
   },
   "source": [
    "¡Bien! Has elegido sabiamente, c\n",
    "\n",
    "![](https://media1.tenor.com/images/c69f043088acef4637ecce5de0e3bed9/tenor.gif?itemid=13257298 \"wisely\")\n",
    "\n"
   ]
  },
  {
   "cell_type": "markdown",
   "metadata": {
    "colab_type": "text",
    "id": "DQOd0X9hzENO"
   },
   "source": [
    "### 0.3.1: Creación de matriz aleatoria\n",
    "\n",
    "Crear una matriz de $\\mathbb{R}$<sup>$3\\times 3$</sup> uniformemente distribuida en el intervalo $(0, 1)$.\n",
    "\n",
    "Usar [np.random.rand](https://docs.scipy.org/doc/numpy-1.15.1/reference/generated/numpy.random.rand.html)"
   ]
  },
  {
   "cell_type": "code",
   "execution_count": 24,
   "metadata": {
    "colab": {
     "base_uri": "https://localhost:8080/",
     "height": 71
    },
    "colab_type": "code",
    "id": "rR6o3W6CzdTP",
    "outputId": "c13d0264-65c1-4a9a-9ccd-3edeca08929e"
   },
   "outputs": [
    {
     "data": {
      "text/plain": [
       "array([[0.09424914, 0.42369076, 0.83610376],\n",
       "       [0.6123728 , 0.76746297, 0.05723711],\n",
       "       [0.75980776, 0.775633  , 0.24461907]])"
      ]
     },
     "execution_count": 24,
     "metadata": {},
     "output_type": "execute_result"
    }
   ],
   "source": [
    "A = np.random.rand(3,3)\n",
    "\n",
    "A"
   ]
  },
  {
   "cell_type": "markdown",
   "metadata": {
    "colab_type": "text",
    "id": "HdAjJTQazl7u"
   },
   "source": [
    "### 0.3.2: Creación de matriz aleatoria con distribución $N(0, 1)$\n",
    "\n",
    "Crear una matriz de $\\mathbb{R}$<sup>$3\\times3$</sup> tal que cada coordenada sea una variable con distribución $N(0, 1)$.\n",
    "\n",
    "**Nota:** Usar la función [np.random.randn](https://docs.scipy.org/doc/numpy-1.15.1/reference/generated/numpy.random.randn.html)"
   ]
  },
  {
   "cell_type": "code",
   "execution_count": 25,
   "metadata": {
    "colab": {
     "base_uri": "https://localhost:8080/",
     "height": 71
    },
    "colab_type": "code",
    "id": "7xLn04ti1A3E",
    "outputId": "f55c6010-2787-4c8b-9e8d-3c5e66bb6853"
   },
   "outputs": [
    {
     "data": {
      "text/plain": [
       "array([[ 0.56960876,  2.31177281,  0.4201651 ],\n",
       "       [-0.58879613, -1.138712  ,  1.17228408],\n",
       "       [ 0.29336591, -0.40664925, -1.58034417]])"
      ]
     },
     "execution_count": 25,
     "metadata": {},
     "output_type": "execute_result"
    }
   ],
   "source": [
    "A = np.random.randn(3,3)\n",
    "\n",
    "A"
   ]
  },
  {
   "cell_type": "markdown",
   "metadata": {
    "colab_type": "text",
    "id": "GydLEsmr2G4G"
   },
   "source": [
    "### 0.4: Slicing (¿Rebanado?)\n",
    "\n",
    "Dada la matriz\n",
    "\n",
    "$$\n",
    "A =\n",
    "\\begin{pmatrix}\n",
    "\t1 & 2 & 3 \\\\\n",
    "    4 & 5 & 6 \\\\\n",
    "\t7 & 8 & 9\n",
    "\\end{pmatrix}\n",
    "$$\n",
    "\n",
    "Vamos a realizar diferentes accesos a las submatrices de $A$. \n",
    "\n",
    "**Observación**: `numpy` maneja de manera distinta los arrays 1-dimensionales de los n-dimensionales. Tener esto siempre en cuenta!\n",
    "\n",
    "\n",
    "### 0.4.1 Obtener la segunda fila de la matriz\n"
   ]
  },
  {
   "cell_type": "code",
   "execution_count": 29,
   "metadata": {
    "colab": {},
    "colab_type": "code",
    "id": "6ySkvaDS231O"
   },
   "outputs": [
    {
     "name": "stdout",
     "output_type": "stream",
     "text": [
      "[4 5 6]\n"
     ]
    }
   ],
   "source": [
    "\"\"\"\n",
    "TODO: Completar código\n",
    "\"\"\" \n",
    "A = np.array([\n",
    "    [1, 2, 3],\n",
    "    [4, 5, 6],\n",
    "    [7, 8, 9]\n",
    "])\n",
    "\n",
    "fila = A[1,:]\n",
    "print(fila)\n",
    "assert(np.allclose(fila, np.array([4, 5, 6])))"
   ]
  },
  {
   "cell_type": "markdown",
   "metadata": {
    "colab_type": "text",
    "id": "7tZFWO_f3l_p"
   },
   "source": [
    "### 0.4.2 Obtener la tercera columna de A"
   ]
  },
  {
   "cell_type": "code",
   "execution_count": 30,
   "metadata": {
    "colab": {},
    "colab_type": "code",
    "id": "uTS4nKne24ye"
   },
   "outputs": [],
   "source": [
    "columna = A[:,2]\n",
    "\n",
    "assert(np.allclose(columna, np.array([3, 6, 9])))"
   ]
  },
  {
   "cell_type": "markdown",
   "metadata": {
    "colab_type": "text",
    "id": "gn5SIDdT24_b"
   },
   "source": [
    "### 0.4.3 Obtener submatriz\n",
    "\n",
    "Obtener la submatriz\n",
    "\n",
    "$$\n",
    "\\begin{pmatrix}\n",
    "\t1 & 2 \\\\\n",
    "    4 & 5\n",
    "\\end{pmatrix}\n",
    "$$\n",
    "\n",
    "de la matriz $A$.\n"
   ]
  },
  {
   "cell_type": "code",
   "execution_count": 31,
   "metadata": {
    "colab": {},
    "colab_type": "code",
    "id": "dNIDi3cT6nog"
   },
   "outputs": [],
   "source": [
    "submatriz = A[0:2, 0:2]\n",
    "\n",
    "assert(np.allclose(\n",
    "    submatriz, \n",
    "    np.array([\n",
    "       [1, 2],\n",
    "       [4, 5]\n",
    "    ])\n",
    "))"
   ]
  },
  {
   "cell_type": "markdown",
   "metadata": {
    "colab_type": "text",
    "id": "6qTmPmVpB1Mt"
   },
   "source": [
    "### 0.5: Reshape:\n",
    "\n",
    "Muchas veces ocurre que tenemos listas de números que queremos convertir en una matriz, o bien arrays de una dimensión (vectores) que queremos convertirlos en matrices fila/columna ya que `numpy` suele efectuar de manera distinta las operaciones en el caso 1-dimensional o 2-dimensional.\n",
    "\n",
    "Para ello, aprenderemos a hacer darle una nueva \"forma\" al array. Para ello, utilizaremos la función [reshape](https://docs.scipy.org/doc/numpy/reference/generated/numpy.reshape.html) de `numpy`.\n",
    "\n",
    "\n",
    "### 0.5.1: Lista a matriz\n",
    "Convertir el array $L = [1, 2, \\ldots, 7, 8, 9]$ en la matriz de $\\mathbb{R}$<sup>$3 \\times 3$</sup>\n",
    "\n",
    "$$\n",
    "A =\n",
    "\\begin{pmatrix}\n",
    "\t1 & 2 & 3 \\\\\n",
    "    4 & 5 & 6 \\\\\n",
    "\t7 & 8 & 9\n",
    "\\end{pmatrix}\n",
    "$$\n",
    "\n",
    "\n",
    "\n",
    "**Sugerencia:** Verificar las dimensiones de las matrices y/o vectores usando [shape](https://docs.scipy.org/doc/numpy-1.15.1/reference/generated/numpy.ndarray.shape.html)."
   ]
  },
  {
   "cell_type": "code",
   "execution_count": 35,
   "metadata": {
    "colab": {},
    "colab_type": "code",
    "id": "-PEZPkT4CP7T"
   },
   "outputs": [],
   "source": [
    "# range es un iterador ... para convertirlo en una lista concreta, hay que hacer esto\n",
    "\n",
    "nums = list(range(1, 10))\n",
    "\n",
    "L = np.array(nums)\n",
    "\n",
    "\"\"\"\n",
    "TODO: Completar código\n",
    "\"\"\"\n",
    "A = np.reshape(L, (3,3))\n",
    "\n",
    "\n",
    "assert(np.allclose(\n",
    "    A, np.array([\n",
    "    [1, 2, 3],\n",
    "    [4, 5, 6],\n",
    "    [7, 8, 9]\n",
    "])))"
   ]
  },
  {
   "cell_type": "markdown",
   "metadata": {
    "colab_type": "text",
    "id": "l41I2nFODrel"
   },
   "source": [
    "### 0.5.2: Vectores columna\n",
    "\n",
    "1. ¿Qué nos da el `shape` de obtener la primera columna de $A$ con `A[:, 0]`?\n",
    "2. Si `v = A[:, 0]` ¿cuál es el resultado de `v @ v.T`? ¿Por qué ocurre esto? (ver documentación de [np.matmul](https://numpy.org/devdocs/reference/generated/numpy.matmul.html?highlight=matmul#numpy.matmul))\n",
    "3. Utilizar `reshape` para convertir `v` en una matriz columna de $\\mathbb{R}$<sup>`3 x 1`</sup>\n",
    "**Nota:** reshape permite utilizar `-1` como comodín."
   ]
  },
  {
   "cell_type": "code",
   "execution_count": 36,
   "metadata": {},
   "outputs": [
    {
     "name": "stdout",
     "output_type": "stream",
     "text": [
      "(3,)\n",
      "False\n",
      "False\n",
      "False\n"
     ]
    }
   ],
   "source": [
    "v = A[:, 0]\n",
    "\n",
    "print(v.shape)\n",
    "print(v.shape == (1,3))\n",
    "print(v.shape == (3,1))\n",
    "print(v.shape == 3)\n"
   ]
  },
  {
   "cell_type": "code",
   "execution_count": 37,
   "metadata": {
    "colab": {
     "base_uri": "https://localhost:8080/",
     "height": 107
    },
    "colab_type": "code",
    "id": "gYo1SqLOFd7D",
    "outputId": "e49f5283-9533-4292-8dac-cd585b0f5bf6"
   },
   "outputs": [],
   "source": [
    "\n",
    "\"\"\"\n",
    "TODO: usar reshape para v como un vector columna\n",
    "\"\"\"\n",
    "mat_columna = v.reshape(3,1)\n",
    "\n",
    "\n",
    "assert(mat_columna.shape == (3, 1))"
   ]
  },
  {
   "cell_type": "markdown",
   "metadata": {
    "colab_type": "text",
    "id": "OS-1GMNQ_20C"
   },
   "source": [
    "### 0.6.1 Producto Interno\n",
    "\n",
    "Calcular el producto interno entre la primera fila de $A$ y la tercera columna de $B$. \n",
    "\n",
    "**Nota:** Ver documentación de [np.dot](https://docs.scipy.org/doc/numpy/reference/generated/numpy.matmul.html#numpy.matmul)."
   ]
  },
  {
   "cell_type": "code",
   "execution_count": 38,
   "metadata": {
    "colab": {},
    "colab_type": "code",
    "id": "o3e6Hya1AkFb"
   },
   "outputs": [],
   "source": [
    "A = np.array([\n",
    "    [1, 2, 3],\n",
    "    [4, 5, 6],\n",
    "    [7, 8, 9]\n",
    "])\n",
    "\n",
    "B = np.array([\n",
    "    [1, 1, 1],\n",
    "    [0, 1, 1],\n",
    "    [0, 0, 1]\n",
    "])\n",
    "\n",
    "\"\"\" \n",
    "TODO: Calcular el producto interno pedido\n",
    "\"\"\"\n",
    "prod_interno = A[0,:].reshape(1,3) @ B[:,2].reshape(3,1)\n",
    "\n",
    "assert(np.isclose(prod_interno, 6))"
   ]
  },
  {
   "cell_type": "markdown",
   "metadata": {
    "colab_type": "text",
    "id": "8cr_UY2_A7kw"
   },
   "source": [
    "### 0.6.2 Producto Externo\n",
    "\n",
    "Sean $u = (1, 2, 3)$, $v = (-1, 1, 2)$ (primera fila, y última columna de A y B respectivamente). Calcular la matriz $u v^T$ (el llamado producto externo entre $u$ y $v$).\n",
    "\n",
    "¿Cuál es el rango columna de $u v^T$?\n",
    "\n",
    "**Nota**: puede realizarse haciendo un reshape y luego @, o bien usando [np.outer\n",
    "](https://docs.scipy.org/doc/numpy/reference/generated/numpy.outer.html).\n",
    "\n"
   ]
  },
  {
   "cell_type": "code",
   "execution_count": 39,
   "metadata": {
    "colab": {
     "base_uri": "https://localhost:8080/",
     "height": 35
    },
    "colab_type": "code",
    "id": "j2Ufri7FFw-N",
    "outputId": "3833db88-1967-483e-9406-69ace076cd94"
   },
   "outputs": [
    {
     "name": "stdout",
     "output_type": "stream",
     "text": [
      "(3,) (3,)\n"
     ]
    }
   ],
   "source": [
    "\n",
    "u = A[0, :]\n",
    "v = B[:, 2]\n",
    "\n",
    "print(u.shape, v.shape)\n",
    "\n",
    "\"\"\"\n",
    "TODO: Calcular el producto externo\n",
    "\"\"\"\n",
    "prod_externo = u.reshape(3,1) @ v.reshape(1,3)\n",
    "\n",
    "assert(np.allclose(prod_externo, np.array([\n",
    "    [1,  1,  1],\n",
    "    [2,  2,  2],\n",
    "    [3,  3,  3]]\n",
    ")))\n"
   ]
  },
  {
   "cell_type": "markdown",
   "metadata": {
    "colab_type": "text",
    "id": "m3JCvRX8_FLD"
   },
   "source": [
    "## Ejercicio 1\n",
    "\n",
    "Repasar la definición de factorización LU. ¿Bajo qué condiciones podemos garantizar\n",
    "que una matriz inversible tiene factorización LU? \n",
    "\n",
    "Completar la función `tiene_LU` que dada una matriz A, nos devuelve `True` si tiene factorización LU, o `False` en caso contrario.\n",
    "\n",
    "**Tip**: considerar las funciones [np.shape](https://docs.scipy.org/doc/numpy-1.15.1/reference/generated/numpy.ndarray.shape.html) para obtener las dimensiones de una matriz, y [np.linalg.det](https://docs.scipy.org/doc/numpy-1.15.0/reference/generated/numpy.linalg.det.html) para obtener el determinante de una matriz.\n"
   ]
  },
  {
   "cell_type": "code",
   "execution_count": 299,
   "metadata": {
    "colab": {},
    "colab_type": "code",
    "id": "3hqxGleiuvc7"
   },
   "outputs": [],
   "source": [
    "eps = 1e-6\n",
    "\n",
    "def tiene_lu(A):\n",
    "    \"\"\"\n",
    "    Dada una matriz A, devuelve True si tiene descomposición LU, o False en caso contrario\n",
    "    \n",
    "    Argumentos:\n",
    "    -----------\n",
    "    \n",
    "    A: np.array\n",
    "        Matriz de floats\n",
    "\n",
    "    Devuelve:\n",
    "    ---------\n",
    "    \n",
    "    res: bool\n",
    "        True si tiene LU, False caso contrario\n",
    "    \"\"\" \n",
    "    \n",
    "    \"\"\"\n",
    "    TODO: Completar la función\n",
    "    \"\"\"\n",
    "    \n",
    "    '''\n",
    "    Forma 1: Todos los determinantes de las submatrices != 0\n",
    "    '''\n",
    "    \n",
    "    for row in range(1, A.shape[0]+1):\n",
    "        A_aux = A[0:row, 0:row].reshape(row, row)\n",
    "        if np.abs(np.linalg.det(A_aux)) < eps:\n",
    "            return False\n",
    "    \n",
    "    return True\n",
    "\n",
    "    '''\n",
    "    Forma 2: Es estrictamente diagonal dominante\n",
    "    '''\n",
    "    \n",
    "#     diagonal = np.diag(A)\n",
    "#     for elem, row in zip(diagonal, A):\n",
    "#         suma = np.sum(np.abs(row)) - 2*np.abs(elem)\n",
    "#         if suma >= 0:\n",
    "#             return False\n",
    "#     return True\n"
   ]
  },
  {
   "cell_type": "markdown",
   "metadata": {
    "colab_type": "text",
    "id": "ueM7Fmiz2F8K"
   },
   "source": [
    "### Unittest\n",
    "\n",
    "Corramos unos tests automatizados para ver si esto funciona. \n",
    "\n",
    "**PUEDEN SIMPLEMENTE IGNORAR ESTO**\n",
    "\n",
    "**Obs 1**: A cada test le pondremos el decorador `@mntest` definido arriba. Necesitamos además setear en cada celda donde corramos tests la variable `tests` a `[]`.\n",
    "\n",
    "**Obs 2**: No usaremos ninguna de las bibliotecas estándar de Python (`unittest` o `pytest`) puesto que no están pensadas para funcionar con Jupyter."
   ]
  },
  {
   "cell_type": "code",
   "execution_count": 300,
   "metadata": {
    "colab": {},
    "colab_type": "code",
    "id": "c3HR15VADBAz"
   },
   "outputs": [],
   "source": [
    "#Código para que corran los tests: (pueden ignorarlo)\n",
    "\n",
    "import numpy as np\n",
    "import math\n",
    "import traceback\n",
    "\n",
    "\n",
    "def mntest(func):\n",
    "    global tests\n",
    "    \n",
    "    tests.append(func)    \n",
    "    \n",
    "    return func\n",
    "\n",
    "def correr_tests():\n",
    "    excepciones = []\n",
    "    for test in tests:\n",
    "        try:\n",
    "            print(\"Corriendo {} ... \".format(test.__name__), end='')\n",
    "            test()\n",
    "            print(\"OK\")\n",
    "        except AssertionError as e:\n",
    "            error_msg = traceback.format_exc()\n",
    "            excepciones.append((test, error_msg))\n",
    "            print(\"ERROR\")\n",
    "    \n",
    "    if len(excepciones) > 0:\n",
    "        print(\"\\nErrores:\\n\")\n",
    "        for (test, error_msg) in excepciones:\n",
    "            print(\"En {}\".format(test.__name__))\n",
    "            print(error_msg)\n",
    "    else:\n",
    "        print(\"\\n\\nTodos los tests pasaron correctamente\")"
   ]
  },
  {
   "cell_type": "code",
   "execution_count": 301,
   "metadata": {
    "colab": {
     "base_uri": "https://localhost:8080/",
     "height": 143
    },
    "colab_type": "code",
    "id": "qzGpqmwAyHCz",
    "outputId": "77a54d97-0503-414c-c8b7-a7408b792077"
   },
   "outputs": [
    {
     "name": "stdout",
     "output_type": "stream",
     "text": [
      "Corriendo testear_identidad_tiene_LU ... OK\n",
      "Corriendo testear_matriz_ceros_no_tiene_LU ... OK\n",
      "Corriendo testear_matriz_no_inversible ... OK\n",
      "Corriendo testear_matriz_permutacion_no_tiene_LU ... OK\n",
      "\n",
      "\n",
      "Todos los tests pasaron correctamente\n"
     ]
    }
   ],
   "source": [
    "tests = []\n",
    "\n",
    "\n",
    "@mntest\n",
    "def testear_identidad_tiene_LU():\n",
    "    A = np.identity(3)\n",
    "        \n",
    "    assert(tiene_lu(A))\n",
    "    \n",
    "\n",
    "@mntest\n",
    "def testear_matriz_ceros_no_tiene_LU():\n",
    "    A = np.zeros((3, 3))\n",
    "        \n",
    "    assert(not tiene_lu(A))\n",
    "    \n",
    "@mntest\n",
    "def testear_matriz_no_inversible():\n",
    "    A = np.ones((3, 3))\n",
    "    \n",
    "    assert(not tiene_lu(A))\n",
    "\n",
    "@mntest \n",
    "def testear_matriz_permutacion_no_tiene_LU():\n",
    "    A = np.array([\n",
    "        [1, 0, 0],\n",
    "        [0, 0, 1],\n",
    "        [0, 1, 0]\n",
    "    ])\n",
    "    \n",
    "    assert(not tiene_lu(A))\n",
    "\n",
    "\n",
    "correr_tests()"
   ]
  },
  {
   "cell_type": "markdown",
   "metadata": {
    "colab_type": "text",
    "id": "OXNBy-XP2Qos"
   },
   "source": [
    "## Ejercicio 2: Resolver LU por bloques\n",
    "\n",
    "\n",
    "\n",
    "### ¿Cómo era esto de resolver en bloques?\n",
    "Sea $A \\in \\mathbb{R}^{n \\times n}$ a la cual le queremos calcular la factorización LU. Para ello, lo calcularemos en bloques en vez del método tradicional de triangulación. \n",
    "\n",
    "Supongamos que A tiene factorización LU; es decir podemos descomponerla en $L, U \\in \\mathbb{R}^{n \\times n}$ escribiendo la descomposición en bloques de la forma:\n",
    "\n",
    "\n",
    "$$\n",
    "A = L U \\\\\n",
    "$$\n",
    "\n",
    "$$\n",
    "\\begin{pmatrix}\n",
    "a_{11}   & A_{12}  \\\\\n",
    "A_{21} & A_{22}\n",
    "\\end{pmatrix} = \\begin{pmatrix}\n",
    "1 & 0  \\\\\n",
    "L_{21} & L_{22}\n",
    "\\end{pmatrix} \\begin{pmatrix}\n",
    "u_{11}   & U_{12}  \\\\\n",
    "0 & U_{22}\n",
    "\\end{pmatrix}\n",
    "$$\n",
    "\n",
    "&nbsp;\n",
    "\n",
    "\n",
    "donde $a_{11}, l_{11}, u_{11}$ son escalares, $A_{12} \\in \\mathbb{R}^{1 \\times (n-1)}$ (vector fila), $L_{21} \\in \\mathbb{R}^{(n-1) \\times 1}$\n",
    "\n",
    "De aquí obtenemos las siguientes ecuaciones:\n",
    "\n",
    "\\begin{align*}\n",
    "u_{11} &= a_{11} \\\\\n",
    "U_{12} &= A_{12} \\\\\n",
    "L_{21} &= \\frac{A_{21}}{u_{11}}  \\\\\n",
    "\\end{align*}\n",
    "\n",
    "Estas 3 ecuaciones nos permitirán despejar y obtener el contenido de estos 3 bloques. Ahora, nos queda la última ecuación:\n",
    "\n",
    "$$\n",
    "A_{22} = L_{21} U_{12} + L_{22} U_{22} \\\\\n",
    "$$\n",
    "\n",
    "Reescribiéndola, nos queda:\n",
    "$$\n",
    "A_{22} - L_{21} U_{12} = L_{22} U_{22} \\\\\n",
    "$$\n",
    "\n",
    "Y aquí, un pequeño salto de fe (esperemos razonable para los que ya hayan cursado Algo 2): si resolvemos la factorización LU de $A_{22} - L_{21} U_{12}$, podemos obtener los dos bloques que nos faltan.\n",
    "\n",
    "\n",
    "\n",
    "\n",
    "\n",
    "**Ejercicio**:  Calcular LU en bloques para que tome una matriz $A \\in \\mathbb{R}^{n \\times n}$ y nos devuelva $L$ y $U$, su descomposición LU correspondiente. \n",
    "\n",
    "La resolución tiene que ser *iterativa* pero puede convenir empezar a pensarlo en términos recursivos.\n",
    "\n",
    "**RESPONDER**: ¿Cómo aseguran paso a paso que la matriz tenga factorización LU?\n",
    "\n",
    "**Respuesta**\n",
    "Básicamente, estamos reduciendo la matriz por eliminación gaussiana. Asique si la matriz original tiene LU => todas las submatrices tienen LU. \n",
    "\n",
    "**Hint**: Ojo con la dimensión de los vectores. Si queremos multiplicar una matriz \"columna\", con una matriz \"fila\" tenemos que hacer reshape primero."
   ]
  },
  {
   "cell_type": "code",
   "execution_count": 289,
   "metadata": {},
   "outputs": [],
   "source": [
    "def lu_recursivo(A):\n",
    "    current = A.copy()\n",
    "    size = current.shape[0]\n",
    "    if size == 1:\n",
    "        return np.array([1]), current[0,0]\n",
    "    \n",
    "    A11 = current[0,0].reshape(1,1)\n",
    "    A12 = current[0, 1:].reshape(1, size-1)\n",
    "    A21 = current[1:, 0].reshape(size-1, 1)\n",
    "    A22 = current[1:, 1:].reshape(size-1, size-1)\n",
    "    \n",
    "    U11 = A11\n",
    "    U12 = current[0, 1:].reshape(1, size-1)\n",
    "    U21 = np.zeros((size-1, 1))\n",
    "    \n",
    "    L11 = 1\n",
    "    L12 = np.zeros((1, size-1))\n",
    "    L21 =  A21 * (1/U11)\n",
    "\n",
    "    new_A = A22 - (L21 @ U12)\n",
    "    \n",
    "    L22, U22 = lu_recursivo(new_A)\n",
    "    \n",
    "    return np.block([[L11, L12],[L21, L22]]), np.block([[U11, U12],[U21, U22]])\n",
    "    "
   ]
  },
  {
   "cell_type": "code",
   "execution_count": 302,
   "metadata": {
    "colab": {},
    "colab_type": "code",
    "id": "tZomxJSSCQhi"
   },
   "outputs": [],
   "source": [
    "def lu_en_bloques(A):\n",
    "    \"\"\"\n",
    "    Dada una matriz A, devuelve L, U \n",
    "    \n",
    "    Argumentos:\n",
    "    -----------\n",
    "    \n",
    "    A: np.array\n",
    "        Matriz de floats\n",
    "\n",
    "    Devuelve:\n",
    "    ---------\n",
    "    \n",
    "    L, U: np.array\n",
    "        Descomposición LU de A\n",
    "        \n",
    "    \"\"\"\n",
    "    \n",
    "    \"\"\"\n",
    "    current_matrix es la matriz a la cual le estoy calculando LU\n",
    "    \n",
    "    Primero va a ser A, luego A22 - L21 * U21, ...\n",
    "    \"\"\"\n",
    "    current_matrix = A.copy().astype('float64')\n",
    "    \n",
    "    \"\"\"\n",
    "    Vamos a ir \"rellenando\" paso a paso la factorización LU\n",
    "    \"\"\"\n",
    "    L = np.zeros(A.shape, dtype='float64')\n",
    "    U = np.zeros(A.shape, dtype='float64')\n",
    "    \n",
    "    n = A.shape[0]\n",
    "    \n",
    "    \"\"\"\n",
    "    Vamos a iterar desde 0 hasta n-1 e ir completando L y U\n",
    "    de acuerdo a las ecuaciones antes explicadas\n",
    "    \"\"\"\n",
    "    for i in range(n):\n",
    "        \"\"\"\n",
    "        \n",
    "        Observación: \n",
    "        \n",
    "        En cada paso i estamos \"llenando\" las columnas y filas i-ésimas de L y U. Por eso tenemos que indexar por i\n",
    "        \n",
    "        Sin embargo, current_matrix la tenemos que indexar en 0 ya que es la matriz que vamos a ir\n",
    "        \"achicando\" en dimensión. \n",
    "        \n",
    "        \"\"\"\n",
    "        \n",
    "        \"\"\"\n",
    "        TODO: Rellenar los valores de L[i, i] y U[i, i]\n",
    "        \"\"\"\n",
    "        L[i, i] = 1\n",
    "        U[i, i] = current_matrix[0,0]\n",
    "        \"\"\"\n",
    "        Caso \"base\": si es el final, no seguir\n",
    "        \"\"\"\n",
    "        if i == n-1:\n",
    "            break\n",
    "        \n",
    "        \"\"\"\n",
    "        TODO: Calcular los nuevos valores de U12 y L21\n",
    "        \"\"\"\n",
    "        U[i, i+1:] = current_matrix[0, 1:]\n",
    "        L[i+1:, i] = current_matrix[1:, 0] * (1/U[i,i])\n",
    "        \n",
    "        \"\"\"\n",
    "        TODO: Calcular la matriz del caso \"recursivo\".\n",
    "        \n",
    "        Esto sería la nueva \"A\"\n",
    "        \n",
    "        Sugerencia: usar np.outer o hacer reshape\n",
    "        \"\"\"\n",
    "        current_dim = current_matrix.shape[0]\n",
    "        \n",
    "        new_matrix =  current_matrix[1:, 1:].reshape(current_dim-1, current_dim-1)\n",
    "        new_matrix -= L[i+1:, i].reshape(current_dim-1,1) @ U[i, i+1:].reshape(1, current_dim-1)#L21 * U12\n",
    "        \n",
    "        \"\"\"\n",
    "        Asignamos la nueva matriz a calcular LU\n",
    "        \n",
    "        Nos aseguramos de que su dimensión se haya reducido en uno\n",
    "        \"\"\"\n",
    "        current_matrix = new_matrix\n",
    "        assert(current_matrix.shape == (current_dim-1, current_dim-1))\n",
    "\n",
    "    return L, U\n"
   ]
  },
  {
   "cell_type": "code",
   "execution_count": 304,
   "metadata": {
    "colab": {
     "base_uri": "https://localhost:8080/",
     "height": 125
    },
    "colab_type": "code",
    "id": "d1iUwahTbOHx",
    "outputId": "0e3313e9-c12c-4b8a-e3eb-b94a0dff52f5"
   },
   "outputs": [
    {
     "name": "stdout",
     "output_type": "stream",
     "text": [
      "Corriendo testear_con_multiplo_identidad ... OK\n",
      "Corriendo testear_con_otra_matriz ... OK\n",
      "Corriendo testear_con_otra_matriz2 ... OK\n",
      "\n",
      "\n",
      "Todos los tests pasaron correctamente\n"
     ]
    }
   ],
   "source": [
    "tests = []\n",
    "\n",
    "\n",
    "@mntest\n",
    "def testear_con_multiplo_identidad():\n",
    "    A = 3 * np.identity(3)\n",
    "    \n",
    "    #L, U = lu_en_bloques(A)\n",
    "    L, U = lu_recursivo(A)\n",
    "    \n",
    "    assert(np.allclose(L, np.eye(3)))\n",
    "    assert(np.allclose(U, 3*np.eye(3)))\n",
    "    \n",
    "    \n",
    "\n",
    "@mntest\n",
    "def testear_con_otra_matriz():\n",
    "    L = np.array([\n",
    "        [1, 0, 0],\n",
    "        [1, 1, 0],\n",
    "        [1, 1, 1],\n",
    "    ])\n",
    "\n",
    "    U = np.array([\n",
    "        [1, 1, 1],\n",
    "        [0, 2, 2],\n",
    "        [0, 0, 3],\n",
    "    ])\n",
    "\n",
    "    A = L @ U\n",
    "    \n",
    "    #L1, U1 = lu_en_bloques(A)\n",
    "    L1, U1 = lu_recursivo(A)\n",
    "    \n",
    "    assert(np.allclose(L1, L))\n",
    "    assert(np.allclose(U1, U))\n",
    "\n",
    "@mntest\n",
    "def testear_con_otra_matriz2():\n",
    "    A = np.array([\n",
    "        [8, 2, 0],\n",
    "        [4, 9, 4],\n",
    "        [6, 7, 9],\n",
    "    ])\n",
    "\n",
    "\n",
    "    \n",
    "    #L1, U1 = lu_en_bloques(A)\n",
    "    L1, U1 = lu_recursivo(A)\n",
    "    \n",
    "    assert(np.allclose(L1@U1, A))\n",
    "\n",
    "    \n",
    "\n",
    "correr_tests()\n"
   ]
  },
  {
   "cell_type": "markdown",
   "metadata": {
    "colab_type": "text",
    "id": "Cg0VL9EhBCmH"
   },
   "source": [
    "## Ejercicio 3\n",
    "\n",
    "Completar la función con un método para determinar si una matriz es ortogonal o no. \n",
    "\n",
    "En caso de serlo, explicar cómo se podría devolver un conjunto ortonormal de vectores a partir de la matriz.\n",
    "\n",
    "**Agregar dos casos de test** probando con dos matrices ya conocidas: de rotaciones (Givens) y de reflexiones (Householder)"
   ]
  },
  {
   "cell_type": "code",
   "execution_count": 291,
   "metadata": {
    "colab": {},
    "colab_type": "code",
    "id": "4Q8u9B4vMjgH"
   },
   "outputs": [],
   "source": [
    "def es_ortogonal(A):\n",
    "    \"\"\"\n",
    "    Devuelve True si A es ortogonal, False en otro caso\n",
    "    \n",
    "    \n",
    "    Argumentos:\n",
    "    ----------\n",
    "    \n",
    "    A: np.array\n",
    "        \n",
    "    Devuelve:\n",
    "    ---------\n",
    "    \n",
    "    res: bool\n",
    "        True si A ortogonal, False en otro caso\n",
    "    \"\"\"\n",
    "\n",
    "    \"\"\"\n",
    "    TODO: Completar acá\n",
    "    \"\"\"\n",
    "    '''\n",
    "    Forma 1: Mantiene la norma\n",
    "    '''\n",
    "    \n",
    "#     cols = A.shape[0]\n",
    "    \n",
    "#     x = np.random.rand(cols, 1)\n",
    "#     norma_x = np.linalg.norm(x)\n",
    "#     Ax = A @ x\n",
    "#     norma_Ax = np.linalg.norm(Ax)\n",
    "#     ret = np.isclose(norma_x, norma_Ax)\n",
    "    \n",
    "    '''\n",
    "    Forma 2: Q^t*Q\n",
    "    '''\n",
    "    ret = np.allclose(A@A.T, np.eye(A.shape[0]))\n",
    "    \n",
    "    \n",
    "    return ret"
   ]
  },
  {
   "cell_type": "code",
   "execution_count": 305,
   "metadata": {
    "colab": {
     "base_uri": "https://localhost:8080/",
     "height": 125
    },
    "colab_type": "code",
    "id": "YgXP3CoeM0MR",
    "outputId": "a2e73479-cb45-4317-ae45-f7b962a79da2"
   },
   "outputs": [
    {
     "name": "stdout",
     "output_type": "stream",
     "text": [
      "Corriendo probar_con_identidad ... OK\n",
      "Corriendo probar_con_rotacion ... OK\n",
      "Corriendo probar_con_reflexion ... OK\n",
      "\n",
      "\n",
      "Todos los tests pasaron correctamente\n"
     ]
    }
   ],
   "source": [
    "from math import cos, sin\n",
    "tests = []\n",
    "\n",
    "@mntest\n",
    "def probar_con_identidad():\n",
    "    A = np.eye(3)\n",
    "    \n",
    "    assert(es_ortogonal(A))\n",
    "    \n",
    "@mntest\n",
    "def probar_con_rotacion():\n",
    "    angle = math.pi/4\n",
    "    \"\"\"\n",
    "    TODO: Escribir una matriz de rotación angle de 2x2 \n",
    "    \"\"\"\n",
    "    A = np.array([[cos(angle), -sin(angle)],\n",
    "                  [sin(angle), cos(angle)]])\n",
    "    \n",
    "    assert(es_ortogonal(A))\n",
    "\n",
    "@mntest\n",
    "def probar_con_reflexion():\n",
    "    v = np.array([[1,1,1]], dtype='float64')\n",
    "    \"\"\"\n",
    "    TODO: Escribir la matriz de reflexión sobre el plano cuya normal es v\n",
    "    \"\"\"\n",
    "    v_norm = np.linalg.norm(v)\n",
    "    v /= v_norm\n",
    "    I = np.eye(3)\n",
    "    A =  I - 2* (v.T @ v)\n",
    "    assert(es_ortogonal(A))\n",
    "\n",
    "    \n",
    "correr_tests()"
   ]
  },
  {
   "cell_type": "markdown",
   "metadata": {},
   "source": [
    "## Ejercicio 4\n",
    "\n",
    "Sea $A \\in \\mathbb{R}^{n \\times n}$, simétrica y no singular\n",
    "\n",
    "### Ejercicio 4.1\n",
    "\n",
    "Si $A$ tiene factorización $LU$, probar que tiene factorización $LDL^T$. ¿Son las dos $L$ iguales? \n",
    "\n",
    "**Respuesta:**\n",
    "\n",
    "\\begin{align*}\n",
    "A &= A^T \\\\\n",
    "L U &= U^T L^T\\\\\n",
    "U L^{-T} &= D\\\\\n",
    "U &= D L^{T}\\\\\n",
    "A &= L D L^{T}\\\\\n",
    "\\end{align*}\n",
    "\n",
    "Las 2 $L$ son iguales.\n"
   ]
  },
  {
   "cell_type": "markdown",
   "metadata": {},
   "source": [
    "#### SOLUCIÓN\n",
    "\n",
    "Unas pequeñas pistas\n",
    "Si $A = LU$ es simétrica, entonces \n",
    "\n",
    "\\begin{align*}\n",
    "A &= A^T \\\\\n",
    "L U &= U^T L^T\\\\\n",
    "\\end{align*}\n",
    "\n",
    "¿Qué forma tiene $U^T$? ¿Es el lado derecho una factorización LU? ¿Cómo la podemos convertir a una factorización LU? (sin calcular ninguna inversa, de ser posible)\n",
    "\n",
    "\n",
    "**Respuesta**\n",
    "\n",
    "$U^T$ es triangular inferior. El lado derecho no es una factorización LU porque $U^T$ no necesariamente tiene unos en la diagonal.\n",
    "\n",
    "Para hacer la parte derecha LU, nos armamos una matriz diagonal con la diagonal de $U^T$. La inversa de esa matriz, también es diagonal y se consigue:\n",
    "$$D^{-1}_{[i,i]} = \\frac{1}{D_{[i,i]}}$$\n",
    "\n",
    "Luego, ya que $D \\cdot D^{-1} = I$ podemos reescribir:\n",
    "$$U^T \\cdot L^T = U^T \\cdot D^{-1} \\cdot D \\cdot L^T$$\n",
    "\n",
    "Si agrupamos podemos decir que:\n",
    "\\begin{align*}\n",
    "(U')^{T} &= U^T \\cdot D^{-1} \\\\\n",
    "(L')^{T} &= D \\cdot L^T\\\\\n",
    "\\end{align*}\n",
    "\n",
    "Donde ahora $(U')^{T} \\cdot (L')^{T}$ si es una factorización LU"
   ]
  },
  {
   "cell_type": "markdown",
   "metadata": {},
   "source": [
    "### Ejercicio 4.2\n",
    "\n",
    "Dada la factorización $A = LU$, ¿Cómo puedo calcular $D$ (de $LDL^T$) sin usar matrices inversas?\n",
    "\n"
   ]
  },
  {
   "cell_type": "markdown",
   "metadata": {},
   "source": [
    "### SOLUCIÓN\n",
    "\n",
    "Sabemos por el ejercicio 4.1 que:\n",
    "$$D = U L^{-T}$$\n",
    "\n",
    "También sabemos que la diagonal de $L$ es igual a la diagonal de $L^{-1}$, que también es igual a $L^T$ y a $L^{-T}$.\n",
    "\n",
    "Por lo tanto, al ser $U$ y $L^{-T}$ triangulares superiores, y al solo estar interesados en la diagonal del resultado podemos decir que:\n",
    "\n",
    "\\begin{align*}\n",
    "D_{[i,i]} &= U_{[i,i]} * L_{[i,i]} \\\\\n",
    "D_{[i,i]} &= U_{[i,i]} * 1\\\\\n",
    "D_{[i,i]} &= U_{[i,i]}\\\\\n",
    "\\end{align*}\n",
    "\n",
    "\n"
   ]
  },
  {
   "cell_type": "markdown",
   "metadata": {
    "colab_type": "text",
    "id": "NcqRuaiDiglC"
   },
   "source": [
    "### Ejercicio 4.3\n",
    "\n",
    "\n",
    "\n",
    "Completar la función `chol_from_LU` para que tome una matriz A y devuelva la matriz correspondiente a su factorización de Cholesky utilizando como base la factorización LU de `A`, sin calcular ninguna matriz inversa en el medio.\n",
    "\n",
    "En el caso de que la matriz no tenga factorización de Cholesky, **debe generar un error mediante `raise ValueError`**\n",
    "\n",
    "    \n",
    "**Hint**: considerar las funciones [np.diag](https://docs.scipy.org/doc/numpy-1.15.1/reference/generated/numpy.diag.html) y [np.sqrt](https://docs.scipy.org/doc/numpy-1.15.0/reference/generated/numpy.sqrt.html).\n",
    "\n",
    "Dada una matriz `A` podemos obtener una matriz que tenga la diagonal de `A` y 0 en las demás posiciones mediante `np.diag(np.diag(A))`\n"
   ]
  },
  {
   "cell_type": "code",
   "execution_count": 306,
   "metadata": {
    "colab": {},
    "colab_type": "code",
    "id": "tzFJOhf8-4-Y"
   },
   "outputs": [],
   "source": [
    "def es_simetrica(A):\n",
    "    \"\"\"\n",
    "    TODO: Completar esta función\n",
    "    \"\"\"\n",
    "    return np.allclose(A, A.T)\n",
    "\n",
    "def chol_from_lu(A):\n",
    "    \"\"\"\n",
    "    Devuelve la L de Cholesky a través de la factorización LU de la matriz A\n",
    "    \n",
    "    En caso de que no tenga LU o que no tenga Cholesky, lanza ValueError\n",
    "    \n",
    "    Argumentos:\n",
    "    ----------\n",
    "    \n",
    "    A: np.array\n",
    "        Matriz a factorizar\n",
    "    \n",
    "    Devuelve:\n",
    "    ---------\n",
    "    \n",
    "    L: np.array\n",
    "        Factorización de Cholesky de A\n",
    "    \"\"\"\n",
    "    if not es_simetrica(A):\n",
    "        raise ValueError(\"Matriz no simétrica\")\n",
    "    \n",
    "    \n",
    "    L, U = lu_en_bloques(A)\n",
    "    \"\"\"\n",
    "    TODO: Completar acá\n",
    "    \"\"\"\n",
    "    diagonal = np.diag(U)\n",
    "    if (diagonal<0).any():\n",
    "        raise ValueError(\"No existe cholesky\")\n",
    "        \n",
    "    diagonal = np.sqrt(diagonal)\n",
    "    D_inversa = np.diag(diagonal)\n",
    "    \n",
    "    L_cholesky = L @ D_inversa\n",
    "    \n",
    "    \n",
    "    return L_cholesky"
   ]
  },
  {
   "cell_type": "code",
   "execution_count": 307,
   "metadata": {
    "colab": {},
    "colab_type": "code",
    "id": "F1ke4JgVE6tE"
   },
   "outputs": [
    {
     "name": "stdout",
     "output_type": "stream",
     "text": [
      "Corriendo testear_con_identidad ... OK\n",
      "Corriendo testear_con_multiplo_identidad ... OK\n",
      "Corriendo testear_con_matriz_no_sdp ... OK\n",
      "Corriendo testear_con_matriz ... OK\n",
      "\n",
      "\n",
      "Todos los tests pasaron correctamente\n"
     ]
    }
   ],
   "source": [
    "tests = []\n",
    "\n",
    "\n",
    "@mntest\n",
    "def testear_con_identidad():\n",
    "    A = np.eye(3)\n",
    "    L = chol_from_lu(A)\n",
    "    \n",
    "    # Cholesky es la identidad también :-)\n",
    "    assert(np.allclose(A, L))\n",
    "    \n",
    "\n",
    "@mntest\n",
    "def testear_con_multiplo_identidad():\n",
    "    A = 4 * np.eye(3)\n",
    "    L = chol_from_lu(A)\n",
    "    \n",
    "    # Cholesky es la identidad también :-)\n",
    "    assert(np.allclose(L, 2* np.eye(3)))\n",
    "    \n",
    "@mntest\n",
    "def testear_con_matriz_no_sdp():\n",
    "    A = np.array([\n",
    "        [1, 0, 0],\n",
    "        [0, -1, 0],\n",
    "        [0, 0, 2]\n",
    "    ])\n",
    "    try:\n",
    "        L = chol_from_lu(A)\n",
    "        raise AssertionError(\"Tiene que lanzar excepción\")\n",
    "    except ValueError as e:\n",
    "        pass\n",
    "\n",
    "@mntest\n",
    "def testear_con_matriz():\n",
    "    L1 = np.array([\n",
    "        [1, 0, 0],\n",
    "        [2, 2, 0],\n",
    "        [4, 4, 4]\n",
    "    ])\n",
    "    \n",
    "    A = L1 @ L1.T\n",
    "    L = chol_from_lu(A)\n",
    "    assert(np.allclose(L, L1))\n",
    "\n",
    "correr_tests()\n"
   ]
  },
  {
   "cell_type": "markdown",
   "metadata": {
    "colab_type": "text",
    "id": "90RMGLCMgJU_"
   },
   "source": [
    "## Ejercicio 5: Opcional\n",
    "\n",
    "Supongamos que tenemos $A \\in \\mathbb{R}^{n \\times n}$. Si generamos $x_1, \\ldots x_k \\in \\mathbb{R}^n$ vectores aleatorios ¿cómo podemos chequear \"probabilísticamente\" que $A$ es simétrica definida positiva?\n",
    "\n",
    "Enunciar un método basado en la generación de vectores aleatorios para mostrar que una matriz no es definida positiva o para ganar más confianza en que sí lo es. \n",
    "\n",
    "**Opcional**: Tratar de pensar la implementación sin for, ni while \n",
    "\n",
    "**Opcional 2**: ¿Se les ocurre algún ejemplo en el que fallaría este método?\n",
    "\n",
    "El método puede fallar si los vectores se generan con valores positivos y para que $x^{T} \\cdot A \\cdot x <= 0$ se necesita al menos un elemento del vector negativo. Además si justo justo justo el vector aleatorio es un vector de ceros. Pero la probabilidad de que eso pase tiende a cero.\n",
    "\n",
    "**Tip**: \n",
    "Las funciones [np.diagonal](https://docs.scipy.org/doc/numpy/reference/generated/numpy.diagonal.html) y [np.any](https://docs.scipy.org/doc/numpy/reference/generated/numpy.any.html) también pueden ser de ayuda."
   ]
  },
  {
   "cell_type": "code",
   "execution_count": 308,
   "metadata": {
    "colab": {},
    "colab_type": "code",
    "id": "p9T6AxDIfY3T"
   },
   "outputs": [],
   "source": [
    "\n",
    "def tiene_sdp_vectores_aleatorios(A, n):\n",
    "    \"\"\"\n",
    "    Chequea que la matriz sea SDP usando método probabilístico de vectores aleatorios\n",
    "    \n",
    "    Argumentos:\n",
    "    ----------\n",
    "    \n",
    "    A: np.array\n",
    "        Matriz a verificar su condición de SDP\n",
    "       \n",
    "    n: int\n",
    "        Cantidad de vectores a \n",
    "    \n",
    "    Devuelve:\n",
    "    ---------\n",
    "    \n",
    "    res: bool\n",
    "        True si no encontró si A es SDP bajo este método probabilístico\n",
    "    \"\"\"\n",
    "    if not es_simetrica(A):\n",
    "        return False\n",
    "    \n",
    "    \"\"\"\n",
    "    TODO: Generar vectores aleatorios y verificar si alguno rompe la condición de DP\n",
    "    \"\"\" \n",
    "    \n",
    "    size = A.shape[0]\n",
    "    v_aleatorios = np.random.uniform(low = -10, high = 10, size=(size, n))\n",
    "    v_aleatorios_t = v_aleatorios.T\n",
    "    \n",
    "    res = (v_aleatorios_t @ A) @ v_aleatorios\n",
    "    diagonal = np.diag(res).reshape(1, n)\n",
    "    res = diagonal>0\n",
    "    return res.all()"
   ]
  },
  {
   "cell_type": "markdown",
   "metadata": {
    "colab_type": "text",
    "id": "5g8FZ0fJ0-aA"
   },
   "source": [
    "Con este ejemplo debería andar:"
   ]
  },
  {
   "cell_type": "code",
   "execution_count": 309,
   "metadata": {
    "colab": {
     "base_uri": "https://localhost:8080/",
     "height": 125
    },
    "colab_type": "code",
    "id": "An_bAQz6wszV",
    "outputId": "5605979a-8ff4-4a03-9b85-7446abe7d319"
   },
   "outputs": [
    {
     "name": "stdout",
     "output_type": "stream",
     "text": [
      "Corriendo testear_con_identidad ... OK\n",
      "Corriendo testear_con_matriz_no_sdp ... OK\n",
      "Corriendo testear_con_otra_matriz_no_sdp ... OK\n",
      "\n",
      "\n",
      "Todos los tests pasaron correctamente\n"
     ]
    }
   ],
   "source": [
    "tests = []\n",
    "\n",
    "\n",
    "@mntest\n",
    "def testear_con_identidad():\n",
    "    A = np.eye(3)\n",
    "    assert(tiene_sdp_vectores_aleatorios(A, 10000))\n",
    "    \n",
    "    \n",
    "\n",
    "@mntest\n",
    "def testear_con_matriz_no_sdp():\n",
    "    A = np.array([\n",
    "        [1, 0, 0],\n",
    "        [0, -1, 0],\n",
    "        [0, 0, 1],\n",
    "    ])\n",
    "    \n",
    "    assert(not tiene_sdp_vectores_aleatorios(A, 10000))\n",
    "    \n",
    "    \n",
    "@mntest\n",
    "def testear_con_otra_matriz_no_sdp():\n",
    "    A = np.array([\n",
    "        [1, 0, 0],\n",
    "        [0, 1, 2],\n",
    "        [0, 2, 1],\n",
    "    ])\n",
    "    \n",
    "    assert(not tiene_sdp_vectores_aleatorios(A, 10000))\n",
    "    \n",
    "    \n",
    "\n",
    "correr_tests()\n"
   ]
  },
  {
   "cell_type": "code",
   "execution_count": null,
   "metadata": {},
   "outputs": [],
   "source": [
    "\n"
   ]
  }
 ],
 "metadata": {
  "colab": {
   "collapsed_sections": [],
   "name": "taller1-2019c2-solucion.ipynb",
   "provenance": [],
   "version": "0.3.2"
  },
  "kernelspec": {
   "display_name": "Python 3",
   "language": "python",
   "name": "python3"
  },
  "language_info": {
   "codemirror_mode": {
    "name": "ipython",
    "version": 3
   },
   "file_extension": ".py",
   "mimetype": "text/x-python",
   "name": "python",
   "nbconvert_exporter": "python",
   "pygments_lexer": "ipython3",
   "version": "3.6.9"
  }
 },
 "nbformat": 4,
 "nbformat_minor": 4
}
