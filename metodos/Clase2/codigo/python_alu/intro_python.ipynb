{
 "cells": [
  {
   "cell_type": "code",
   "execution_count": null,
   "metadata": {},
   "outputs": [],
   "source": [
    "# print(\"hola\")\n",
    "\n",
    "for n in range(10):\n",
    "    print(n)"
   ]
  },
  {
   "cell_type": "code",
   "execution_count": null,
   "metadata": {},
   "outputs": [],
   "source": [
    "suma = 0\n",
    "for n in range(10, 0, -1):\n",
    "    suma = suma + n\n",
    "    if suma == 10:\n",
    "        print(suma)\n",
    "print(suma) # 55"
   ]
  },
  {
   "cell_type": "code",
   "execution_count": null,
   "metadata": {},
   "outputs": [],
   "source": [
    "n = 0\n",
    "while n < 2:\n",
    "    print(n)\n",
    "    n = n + 1"
   ]
  },
  {
   "cell_type": "code",
   "execution_count": null,
   "metadata": {},
   "outputs": [],
   "source": [
    "n = 1\n",
    "suma = 0\n",
    "while (n < 11):\n",
    "    suma = suma + n\n",
    "    n = n + 1\n",
    "print(suma,\"ble\",[1,3,4]) # 55"
   ]
  },
  {
   "cell_type": "code",
   "execution_count": null,
   "metadata": {},
   "outputs": [],
   "source": [
    "b = [1,2,3]\n",
    "# Operaciones\n",
    "if (len(b) > 0) : print(b.pop(0)) # 1\n",
    "if b == [1,2,3]: print('z') # No hace nada\n",
    "b = b + [4,4]\n",
    "b.append(0.2)\n",
    "print(b)"
   ]
  },
  {
   "cell_type": "code",
   "execution_count": null,
   "metadata": {},
   "outputs": [],
   "source": [
    "print(b[-1]) # 0.2\n",
    "print(b)"
   ]
  },
  {
   "cell_type": "code",
   "execution_count": null,
   "metadata": {},
   "outputs": [],
   "source": [
    "del b[0]"
   ]
  },
  {
   "cell_type": "code",
   "execution_count": null,
   "metadata": {},
   "outputs": [],
   "source": [
    "print(b)"
   ]
  },
  {
   "cell_type": "code",
   "execution_count": null,
   "metadata": {},
   "outputs": [],
   "source": [
    "print(b) # [3, 4, 4, 0.2]\n",
    "print(b[1:3]) # [4, 4, 0.2]\n",
    "print(b[:]) # [3, 4]"
   ]
  },
  {
   "cell_type": "code",
   "execution_count": null,
   "metadata": {},
   "outputs": [],
   "source": [
    "c = [(2**e,e) for e in b if e > 1]\n",
    "print(c) # [6, 8, 8]\n",
    "\n",
    "c2 = []\n",
    "for e in b:\n",
    "    if e > 1:\n",
    "        c2.append(2**e)\n",
    "        \n",
    "print(c2)\n"
   ]
  },
  {
   "cell_type": "code",
   "execution_count": null,
   "metadata": {},
   "outputs": [],
   "source": [
    "def sumaLista(lista):\n",
    "    assert( len(lista) )\n",
    "    print( type(lista) )\n",
    "    suma = lista[0]\n",
    "    \n",
    "    for n in lista[1:]: suma = suma + n\n",
    "    if len(lista) == 0:\n",
    "        return True\n",
    "    else:\n",
    "        return suma\n",
    "\n",
    "sumaLista(b) # 11.2"
   ]
  },
  {
   "cell_type": "code",
   "execution_count": null,
   "metadata": {},
   "outputs": [],
   "source": [
    "# c = [1,2,3,4]\n",
    "# sumaLista([(1,'c'),(2,3)])\n",
    "sumaLista([])"
   ]
  },
  {
   "cell_type": "code",
   "execution_count": null,
   "metadata": {},
   "outputs": [],
   "source": [
    "def quitarRepetidos(lista):\n",
    "    sin_repes = []\n",
    "    for e in lista:\n",
    "        if not (e in sin_repes): sin_repes.append(e)\n",
    "    return sin_repes\n",
    "\n",
    "quitarRepetidos(b) # [3, 4, 0.2]"
   ]
  },
  {
   "cell_type": "code",
   "execution_count": null,
   "metadata": {},
   "outputs": [],
   "source": [
    "5*b # Quintuplicar lista"
   ]
  }
 ],
 "metadata": {
  "kernelspec": {
   "display_name": "Python 2",
   "language": "python",
   "name": "python2"
  },
  "language_info": {
   "codemirror_mode": {
    "name": "ipython",
    "version": 3
   },
   "file_extension": ".py",
   "mimetype": "text/x-python",
   "name": "python",
   "nbconvert_exporter": "python",
   "pygments_lexer": "ipython3",
   "version": "3.6.9"
  }
 },
 "nbformat": 4,
 "nbformat_minor": 2
}
