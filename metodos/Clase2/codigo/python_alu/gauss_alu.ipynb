{
 "cells": [
  {
   "cell_type": "code",
   "execution_count": null,
   "metadata": {},
   "outputs": [],
   "source": [
    "import numpy as np\n",
    "import numpy.linalg as lng\n",
    "\n",
    "# Inicializaciones\n",
    "A = np.array([[1,2],[3,4]], float) # matriz 2x2\n",
    "B = np.array([[5,6],[7,8]], float) # matriz 2x2\n",
    "b = np.array([[1],[2]], float) # vector columna en R2\n",
    "\n",
    "k = 1\n",
    "# Distintas partes de una matriz\n",
    "A[0,:]     # primera fila de A (indexa desde cero)\n",
    "A[:,0]     # primera columna de A\n",
    "A[0:k,0:k] # k-esima submatriz principal de A\n",
    "np.triu(A)    # parte triangular superior de A \n",
    "np.tril(A)    # parte triangular inferior de A"
   ]
  },
  {
   "cell_type": "code",
   "execution_count": null,
   "metadata": {},
   "outputs": [],
   "source": [
    "import numpy as np\n",
    "import numpy.linalg as lng\n",
    "\n",
    "# Resolucion de sistemas y determinantes\n",
    "lng.solve(A,b) # solucion del sistema Ax = b\n",
    "lng.solve(A,B) # matriz solucion del sistema AX = B\n",
    "lng.det(A)     # determinante de la matriz A\n",
    "\n",
    "# Normas vectoriales\n",
    "c = np.array([1,2,3,4], float) # usamos array\n",
    "lng.norm(c,2)   # norma 2\n",
    "p = 3\n",
    "lng.norm(c,p)   # norma p, con p entero\n",
    "lng.norm(c,np.inf) # norma infinito\n",
    "\n",
    "# Numero de condicion segun la norma matricial\n",
    "lng.cond(A,2)\n",
    "lng.cond(A,np.inf)\n",
    "lng.cond(A,'fro')"
   ]
  },
  {
   "cell_type": "markdown",
   "metadata": {},
   "source": [
    "### Ejercicio 1\n",
    "Describir e implementar un algoritmo que calcule un vector no nulo z en R<sup>n</sup> tal que U*z = 0, donde U en R<sup>nxn</sup> sea una matriz triangular superior con u<sub>n,n</sub> = 0 y u<sub>1,1</sub> ...u<sub>n-1,n-1</sub> != 0"
   ]
  },
  {
   "cell_type": "code",
   "execution_count": null,
   "metadata": {},
   "outputs": [],
   "source": [
    "import numpy as np\n",
    "\n",
    "def solver(U,n):\n",
    "  # Completar  \n",
    "  return z"
   ]
  },
  {
   "cell_type": "code",
   "execution_count": null,
   "metadata": {},
   "outputs": [],
   "source": [
    "U = np.array([[5,5,1],[0,2,4], [0,0,0]],float)\n",
    "z = solver(U,3)\n",
    "np.testing.assert_equal(np.allclose(U @ z,[[0],[0],[0]]),True)\n",
    "U = np.array([[1,2,1],[0,3,0], [0,0,0]],float)\n",
    "z = solver(U,3)\n",
    "np.testing.assert_equal(np.allclose(U @ z,[[0],[0],[0]]),True)\n",
    "print(\"Ok\")"
   ]
  },
  {
   "cell_type": "markdown",
   "metadata": {},
   "source": [
    "### Ejercicio 2\n",
    "\n",
    "Consideremos una familia de matrices A<sub>n</sub> en R<sup>nxn</sup>, n >= 2 con una estructura particular que depende de n. Para el caso n = 5, la matriz en cuestión es la siguiente:\n",
    "$$\n",
    "A_5 = \\begin{bmatrix}\n",
    "1 & 0 & 0 & 0 & 1 \\\\\n",
    "-1 & 1 & 0 & 0 & 1 \\\\\n",
    "-1 & -1 & 1 & 0 & 1 \\\\\n",
    "-1 & -1 & -1 & 1 & 1 \\\\\n",
    "-1 & -1 & -1 & -1 & 1 \\\\\n",
    "\\end{bmatrix}\n",
    "$$\n",
    "1. Analizar qué sucede al aplicar el método de eliminación gaussiana con pivoteo parcial a A<sub>6</sub>. Generalizar el resultado para n genérico.\n",
    "2. Implementar un algoritmo que resuelva el sistema de ecuaciones A<sub>n</sub>*x = b.\n",
    "3. Variando el n, considerar vectores b en R<sup>n</sup> para los cuales la solución al sistema  A<sub>n</sub>*x = b, sea conocida. Llamemos x<sup>*</sup> a la solución exacta del sistema y $\\bar{x}$ a la solución obtenida por el algoritmo del punto anterior. ¿Es $\\bar{x}$ una buena aproximación?\n",
    "4. Graficar cómo evoluciona el |x<sup>*</sup> - $\\bar{x}$|<sub>2</sub> en función del tamaño de la matriz"
   ]
  },
  {
   "cell_type": "code",
   "execution_count": null,
   "metadata": {},
   "outputs": [],
   "source": [
    "# Completar"
   ]
  }
 ],
 "metadata": {
  "kernelspec": {
   "display_name": "Python 3",
   "language": "python",
   "name": "python3"
  },
  "language_info": {
   "codemirror_mode": {
    "name": "ipython",
    "version": 3
   },
   "file_extension": ".py",
   "mimetype": "text/x-python",
   "name": "python",
   "nbconvert_exporter": "python",
   "pygments_lexer": "ipython3",
   "version": "3.6.5"
  }
 },
 "nbformat": 4,
 "nbformat_minor": 2
}
