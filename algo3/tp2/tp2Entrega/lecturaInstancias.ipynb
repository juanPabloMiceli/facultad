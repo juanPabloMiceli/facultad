{
 "cells": [
  {
   "cell_type": "code",
   "execution_count": 40,
   "metadata": {},
   "outputs": [],
   "source": [
    "import tsplib95 as tl\n",
    "import os\n",
    "from tqdm import tqdm\n",
    "import numpy as np\n",
    "import pandas as pd"
   ]
  },
  {
   "cell_type": "code",
   "execution_count": 14,
   "metadata": {},
   "outputs": [],
   "source": [
    "def generar_instancia(archivo_entrada, archivo_salida):\n",
    "    prob = tl.load(archivo_entrada)\n",
    "    salida = open(archivo_salida,'w')\n",
    "\n",
    "    grafo = prob.get_graph()\n",
    "    \n",
    "    N = grafo.number_of_nodes()\n",
    "    M = grafo.number_of_edges()\n",
    "    print(N,N*(N-1)//2, file=salida)\n",
    "    for u,v in grafo.edges:\n",
    "        if u<v:\n",
    "            print(u,v,grafo.get_edge_data(u,v)['weight'], file=salida)\n",
    "            \n",
    "    return grafo"
   ]
  },
  {
   "cell_type": "code",
   "execution_count": 28,
   "metadata": {
    "scrolled": false
   },
   "outputs": [],
   "source": [
    "txtPath = 'Data/'\n",
    "\n",
    "folders = [os.path.join(txtPath, f) for f in os.listdir(txtPath)]\n",
    "# folders.append('Data/EXPLICIT/FULL_MATRIX/')\n",
    "# folders.append('Data/EXPLICIT/LOWER_DIAG_ROW/')\n",
    "# folders.append('Data/EXPLICIT/UPPER_DIAG_ROW/')\n",
    "# folders.append('Data/EXPLICIT/UPPER_ROW/')\n",
    "files = []\n",
    "for path in folders:\n",
    "    for file in os.listdir(path):\n",
    "        if os.path.isfile(os.path.join(path, file)):\n",
    "            files.append(os.path.join(path,file))"
   ]
  },
  {
   "cell_type": "code",
   "execution_count": 41,
   "metadata": {},
   "outputs": [
    {
     "name": "stdout",
     "output_type": "stream",
     "text": [
      "['Data/GEO/burma14.txt' 'Data/GEO/ulysses16.tsp.txt'\n",
      " 'Data/GEO/ulysses22.tsp.txt' 'Data/ATT/att48.txt' 'Data/EUC_2D/eil51.txt'\n",
      " 'Data/EUC_2D/berlin52.txt' 'Data/EUC_2D/st70.txt' 'Data/EUC_2D/pr76.txt'\n",
      " 'Data/EUC_2D/eil76.txt' 'Data/GEO/gr96.txt' 'Data/EUC_2D/rat99.txt'\n",
      " 'Data/EUC_2D/kroC100.txt' 'Data/EUC_2D/kroB100.txt'\n",
      " 'Data/EUC_2D/kroD100.txt' 'Data/EUC_2D/kroE100.txt'\n",
      " 'Data/EUC_2D/kroA100.txt' 'Data/EUC_2D/rd100.txt'\n",
      " 'Data/EUC_2D/eil101.txt' 'Data/EUC_2D/lin105.txt' 'Data/EUC_2D/pr107.txt'\n",
      " 'Data/EUC_2D/pr124.txt' 'Data/EUC_2D/bier127.txt' 'Data/EUC_2D/ch130.txt'\n",
      " 'Data/EUC_2D/pr136.txt' 'Data/GEO/gr137.txt' 'Data/EUC_2D/pr144.txt'\n",
      " 'Data/EUC_2D/ch150.txt' 'Data/EUC_2D/kroA150.txt'\n",
      " 'Data/EUC_2D/kroB150.txt' 'Data/EUC_2D/pr152.txt' 'Data/EUC_2D/u159.txt'\n",
      " 'Data/EUC_2D/rat195.txt' 'Data/EUC_2D/d198.txt' 'Data/EUC_2D/kroB200.txt'\n",
      " 'Data/EUC_2D/kroA200.txt' 'Data/GEO/gr202.txt' 'Data/EUC_2D/tsp225.txt'\n",
      " 'Data/EUC_2D/ts225.txt' 'Data/EUC_2D/pr226.txt' 'Data/GEO/gr229.txt'\n",
      " 'Data/EUC_2D/gil262.txt' 'Data/EUC_2D/pr264.txt' 'Data/EUC_2D/a280.txt'\n",
      " 'Data/EUC_2D/pr299.txt' 'Data/EUC_2D/lin318.txt' 'Data/EUC_2D/rd400.txt'\n",
      " 'Data/EUC_2D/fl417.txt' 'Data/GEO/gr431.txt' 'Data/EUC_2D/pr439.txt'\n",
      " 'Data/EUC_2D/pcb442.txt' 'Data/EUC_2D/d493.txt' 'Data/ATT/att532.txt'\n",
      " 'Data/GEO/ali535.txt' 'Data/EUC_2D/u574.txt' 'Data/EUC_2D/rat575.txt'\n",
      " 'Data/EUC_2D/p654.txt' 'Data/EUC_2D/d657.txt' 'Data/GEO/gr666.txt'\n",
      " 'Data/EUC_2D/u724.txt' 'Data/EUC_2D/rat783.txt'\n",
      " 'Data/CEIL_2D/dsj1000.txt' 'Data/EUC_2D/pr1002.txt'\n",
      " 'Data/EUC_2D/u1060.txt' 'Data/EUC_2D/vm1084.txt'\n",
      " 'Data/EUC_2D/pcb1173.txt' 'Data/EUC_2D/d1291.txt'\n",
      " 'Data/EUC_2D/rl1304.txt' 'Data/EUC_2D/rl1323.txt'\n",
      " 'Data/EUC_2D/nrw1379.txt' 'Data/EUC_2D/fl1400.txt'\n",
      " 'Data/EUC_2D/u1432.txt' 'Data/EUC_2D/fl1577.txt' 'Data/EUC_2D/d1655.txt'\n",
      " 'Data/EUC_2D/vm1748.txt' 'Data/EUC_2D/u1817.txt' 'Data/EUC_2D/rl1889.txt'\n",
      " 'Data/EUC_2D/d2103.txt' 'Data/EUC_2D/u2152.txt' 'Data/EUC_2D/u2319.txt'\n",
      " 'Data/EUC_2D/pr2392.txt' 'Data/EUC_2D/pcb3038.txt'\n",
      " 'Data/EUC_2D/fl3795.txt' 'Data/EUC_2D/fnl4461.txt'\n",
      " 'Data/EUC_2D/rl5915.txt' 'Data/EUC_2D/rl5934.txt'\n",
      " 'Data/CEIL_2D/pla7397.txt' 'Data/EUC_2D/rl11849.txt'\n",
      " 'Data/EUC_2D/usa13509.txt' 'Data/EUC_2D/brd14051.txt'\n",
      " 'Data/EUC_2D/d18512.txt' 'Data/CEIL_2D/pla33810.txt'\n",
      " 'Data/CEIL_2D/pla85900.txt']\n"
     ]
    }
   ],
   "source": [
    "def fileSize(file):\n",
    "    csv= pd.read_csv(file,delim_whitespace=True, skiprows= [0,1,2,3,4,5], names=[\"Nodo\", \"x\", \"y\"])\n",
    "    return len(csv)\n",
    "\n",
    "files = np.array(files)\n",
    "fileLens = np.array([fileSize(file) for file in files])\n",
    "\n",
    "files = files[np.argsort(fileLens)]\n",
    "print(files)"
   ]
  },
  {
   "cell_type": "code",
   "execution_count": 43,
   "metadata": {},
   "outputs": [
    {
     "name": "stderr",
     "output_type": "stream",
     "text": [
      " 87%|████████▋ | 80/92 [08:59<01:20,  6.75s/it]\n"
     ]
    },
    {
     "ename": "KeyboardInterrupt",
     "evalue": "",
     "output_type": "error",
     "traceback": [
      "\u001b[0;31m---------------------------------------------------------------------------\u001b[0m",
      "\u001b[0;31mKeyboardInterrupt\u001b[0m                         Traceback (most recent call last)",
      "\u001b[0;32m<ipython-input-43-49db6b2589f5>\u001b[0m in \u001b[0;36m<module>\u001b[0;34m\u001b[0m\n\u001b[1;32m      1\u001b[0m \u001b[0;32mfor\u001b[0m \u001b[0mf\u001b[0m \u001b[0;32min\u001b[0m \u001b[0mtqdm\u001b[0m\u001b[0;34m(\u001b[0m\u001b[0mfiles\u001b[0m\u001b[0;34m)\u001b[0m\u001b[0;34m:\u001b[0m\u001b[0;34m\u001b[0m\u001b[0;34m\u001b[0m\u001b[0m\n\u001b[0;32m----> 2\u001b[0;31m     \u001b[0mgenerar_instancia\u001b[0m\u001b[0;34m(\u001b[0m\u001b[0marchivo_entrada\u001b[0m\u001b[0;34m=\u001b[0m\u001b[0mf\u001b[0m \u001b[0;34m,\u001b[0m \u001b[0marchivo_salida\u001b[0m\u001b[0;34m=\u001b[0m\u001b[0mos\u001b[0m\u001b[0;34m.\u001b[0m\u001b[0mpath\u001b[0m\u001b[0;34m.\u001b[0m\u001b[0mjoin\u001b[0m\u001b[0;34m(\u001b[0m\u001b[0;34m'DataCSV'\u001b[0m\u001b[0;34m,\u001b[0m\u001b[0mf\u001b[0m\u001b[0;34m[\u001b[0m\u001b[0mf\u001b[0m\u001b[0;34m.\u001b[0m\u001b[0mfind\u001b[0m\u001b[0;34m(\u001b[0m\u001b[0;34m'/'\u001b[0m\u001b[0;34m)\u001b[0m\u001b[0;34m+\u001b[0m\u001b[0;36m1\u001b[0m\u001b[0;34m:\u001b[0m \u001b[0mf\u001b[0m\u001b[0;34m.\u001b[0m\u001b[0mrfind\u001b[0m\u001b[0;34m(\u001b[0m\u001b[0;34m'.'\u001b[0m\u001b[0;34m)\u001b[0m\u001b[0;34m]\u001b[0m\u001b[0;34m+\u001b[0m\u001b[0;34m'.txt'\u001b[0m\u001b[0;34m)\u001b[0m\u001b[0;34m)\u001b[0m\u001b[0;34m\u001b[0m\u001b[0;34m\u001b[0m\u001b[0m\n\u001b[0m",
      "\u001b[0;32m<ipython-input-14-55fa9e10db79>\u001b[0m in \u001b[0;36mgenerar_instancia\u001b[0;34m(archivo_entrada, archivo_salida)\u001b[0m\n\u001b[1;32m      3\u001b[0m     \u001b[0msalida\u001b[0m \u001b[0;34m=\u001b[0m \u001b[0mopen\u001b[0m\u001b[0;34m(\u001b[0m\u001b[0marchivo_salida\u001b[0m\u001b[0;34m,\u001b[0m\u001b[0;34m'w'\u001b[0m\u001b[0;34m)\u001b[0m\u001b[0;34m\u001b[0m\u001b[0;34m\u001b[0m\u001b[0m\n\u001b[1;32m      4\u001b[0m \u001b[0;34m\u001b[0m\u001b[0m\n\u001b[0;32m----> 5\u001b[0;31m     \u001b[0mgrafo\u001b[0m \u001b[0;34m=\u001b[0m \u001b[0mprob\u001b[0m\u001b[0;34m.\u001b[0m\u001b[0mget_graph\u001b[0m\u001b[0;34m(\u001b[0m\u001b[0;34m)\u001b[0m\u001b[0;34m\u001b[0m\u001b[0;34m\u001b[0m\u001b[0m\n\u001b[0m\u001b[1;32m      6\u001b[0m \u001b[0;34m\u001b[0m\u001b[0m\n\u001b[1;32m      7\u001b[0m     \u001b[0mN\u001b[0m \u001b[0;34m=\u001b[0m \u001b[0mgrafo\u001b[0m\u001b[0;34m.\u001b[0m\u001b[0mnumber_of_nodes\u001b[0m\u001b[0;34m(\u001b[0m\u001b[0;34m)\u001b[0m\u001b[0;34m\u001b[0m\u001b[0;34m\u001b[0m\u001b[0m\n",
      "\u001b[0;32m~/HOME/.virtualenvs/venv_algo3/lib/python3.8/site-packages/tsplib95/models.py\u001b[0m in \u001b[0;36mget_graph\u001b[0;34m(self, normalize)\u001b[0m\n\u001b[1;32m    576\u001b[0m         \u001b[0;31m# add every edge with some associated metadata\u001b[0m\u001b[0;34m\u001b[0m\u001b[0;34m\u001b[0m\u001b[0;34m\u001b[0m\u001b[0m\n\u001b[1;32m    577\u001b[0m         \u001b[0;32mfor\u001b[0m \u001b[0ma\u001b[0m\u001b[0;34m,\u001b[0m \u001b[0mb\u001b[0m \u001b[0;32min\u001b[0m \u001b[0mself\u001b[0m\u001b[0;34m.\u001b[0m\u001b[0mget_edges\u001b[0m\u001b[0;34m(\u001b[0m\u001b[0;34m)\u001b[0m\u001b[0;34m:\u001b[0m\u001b[0;34m\u001b[0m\u001b[0;34m\u001b[0m\u001b[0m\n\u001b[0;32m--> 578\u001b[0;31m             \u001b[0mweight\u001b[0m \u001b[0;34m=\u001b[0m \u001b[0mself\u001b[0m\u001b[0;34m.\u001b[0m\u001b[0mget_weight\u001b[0m\u001b[0;34m(\u001b[0m\u001b[0ma\u001b[0m\u001b[0;34m,\u001b[0m \u001b[0mb\u001b[0m\u001b[0;34m)\u001b[0m\u001b[0;34m\u001b[0m\u001b[0;34m\u001b[0m\u001b[0m\n\u001b[0m\u001b[1;32m    579\u001b[0m             \u001b[0mis_fixed\u001b[0m \u001b[0;34m=\u001b[0m \u001b[0;34m(\u001b[0m\u001b[0ma\u001b[0m\u001b[0;34m,\u001b[0m \u001b[0mb\u001b[0m\u001b[0;34m)\u001b[0m \u001b[0;32min\u001b[0m \u001b[0mself\u001b[0m\u001b[0;34m.\u001b[0m\u001b[0mfixed_edges\u001b[0m\u001b[0;34m\u001b[0m\u001b[0;34m\u001b[0m\u001b[0m\n\u001b[1;32m    580\u001b[0m             \u001b[0mG\u001b[0m\u001b[0;34m.\u001b[0m\u001b[0madd_edge\u001b[0m\u001b[0;34m(\u001b[0m\u001b[0mnames\u001b[0m\u001b[0;34m[\u001b[0m\u001b[0ma\u001b[0m\u001b[0;34m]\u001b[0m\u001b[0;34m,\u001b[0m \u001b[0mnames\u001b[0m\u001b[0;34m[\u001b[0m\u001b[0mb\u001b[0m\u001b[0;34m]\u001b[0m\u001b[0;34m,\u001b[0m \u001b[0mweight\u001b[0m\u001b[0;34m=\u001b[0m\u001b[0mweight\u001b[0m\u001b[0;34m,\u001b[0m \u001b[0mis_fixed\u001b[0m\u001b[0;34m=\u001b[0m\u001b[0mis_fixed\u001b[0m\u001b[0;34m)\u001b[0m\u001b[0;34m\u001b[0m\u001b[0;34m\u001b[0m\u001b[0m\n",
      "\u001b[0;32m~/HOME/.virtualenvs/venv_algo3/lib/python3.8/site-packages/tsplib95/models.py\u001b[0m in \u001b[0;36mget_weight\u001b[0;34m(self, start, end)\u001b[0m\n\u001b[1;32m    330\u001b[0m         \u001b[0;34m:\u001b[0m\u001b[0mrtype\u001b[0m\u001b[0;34m:\u001b[0m \u001b[0mfloat\u001b[0m\u001b[0;34m\u001b[0m\u001b[0;34m\u001b[0m\u001b[0m\n\u001b[1;32m    331\u001b[0m         \"\"\"\n\u001b[0;32m--> 332\u001b[0;31m         \u001b[0;32mreturn\u001b[0m \u001b[0mself\u001b[0m\u001b[0;34m.\u001b[0m\u001b[0m_wfunc\u001b[0m\u001b[0;34m(\u001b[0m\u001b[0mstart\u001b[0m\u001b[0;34m,\u001b[0m \u001b[0mend\u001b[0m\u001b[0;34m)\u001b[0m\u001b[0;34m\u001b[0m\u001b[0;34m\u001b[0m\u001b[0m\n\u001b[0m\u001b[1;32m    333\u001b[0m \u001b[0;34m\u001b[0m\u001b[0m\n\u001b[1;32m    334\u001b[0m     \u001b[0;32mdef\u001b[0m \u001b[0mis_explicit\u001b[0m\u001b[0;34m(\u001b[0m\u001b[0mself\u001b[0m\u001b[0;34m)\u001b[0m\u001b[0;34m:\u001b[0m\u001b[0;34m\u001b[0m\u001b[0;34m\u001b[0m\u001b[0m\n",
      "\u001b[0;32m~/HOME/.virtualenvs/venv_algo3/lib/python3.8/site-packages/tsplib95/models.py\u001b[0m in \u001b[0;36madapter\u001b[0;34m(i, j)\u001b[0m\n\u001b[1;32m    604\u001b[0m         \u001b[0;31m# indexes instead of directly taking coordinates.\u001b[0m\u001b[0;34m\u001b[0m\u001b[0;34m\u001b[0m\u001b[0;34m\u001b[0m\u001b[0m\n\u001b[1;32m    605\u001b[0m         \u001b[0;32mdef\u001b[0m \u001b[0madapter\u001b[0m\u001b[0;34m(\u001b[0m\u001b[0mi\u001b[0m\u001b[0;34m,\u001b[0m \u001b[0mj\u001b[0m\u001b[0;34m)\u001b[0m\u001b[0;34m:\u001b[0m\u001b[0;34m\u001b[0m\u001b[0;34m\u001b[0m\u001b[0m\n\u001b[0;32m--> 606\u001b[0;31m             \u001b[0;32mreturn\u001b[0m \u001b[0mwfunc\u001b[0m\u001b[0;34m(\u001b[0m\u001b[0mself\u001b[0m\u001b[0;34m.\u001b[0m\u001b[0mnode_coords\u001b[0m\u001b[0;34m[\u001b[0m\u001b[0mi\u001b[0m\u001b[0;34m]\u001b[0m\u001b[0;34m,\u001b[0m \u001b[0mself\u001b[0m\u001b[0;34m.\u001b[0m\u001b[0mnode_coords\u001b[0m\u001b[0;34m[\u001b[0m\u001b[0mj\u001b[0m\u001b[0;34m]\u001b[0m\u001b[0;34m)\u001b[0m\u001b[0;34m\u001b[0m\u001b[0;34m\u001b[0m\u001b[0m\n\u001b[0m\u001b[1;32m    607\u001b[0m \u001b[0;34m\u001b[0m\u001b[0m\n\u001b[1;32m    608\u001b[0m         \u001b[0;32mreturn\u001b[0m \u001b[0madapter\u001b[0m\u001b[0;34m\u001b[0m\u001b[0;34m\u001b[0m\u001b[0m\n",
      "\u001b[0;31mKeyboardInterrupt\u001b[0m: "
     ]
    }
   ],
   "source": [
    "for f in tqdm(files):\n",
    "    generar_instancia(archivo_entrada=f , archivo_salida=os.path.join('DataCSV',f[f.find('/')+1: f.rfind('.')]+'.txt'))"
   ]
  }
 ],
 "metadata": {
  "kernelspec": {
   "display_name": "Python 3",
   "language": "python",
   "name": "python3"
  },
  "language_info": {
   "codemirror_mode": {
    "name": "ipython",
    "version": 3
   },
   "file_extension": ".py",
   "mimetype": "text/x-python",
   "name": "python",
   "nbconvert_exporter": "python",
   "pygments_lexer": "ipython3",
   "version": "3.8.5"
  }
 },
 "nbformat": 4,
 "nbformat_minor": 4
}
