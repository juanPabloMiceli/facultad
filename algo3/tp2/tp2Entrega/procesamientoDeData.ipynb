{
 "cells": [
  {
   "cell_type": "markdown",
   "metadata": {},
   "source": [
    "### Descargamos el contenido de los links en archivos de texto"
   ]
  },
  {
   "cell_type": "code",
   "execution_count": 1,
   "metadata": {},
   "outputs": [],
   "source": [
    "import numpy as np\n",
    "import pandas as pd\n",
    "import urllib.request\n",
    "from bs4 import BeautifulSoup\n",
    "import urllib.request\n",
    "import os\n",
    "import re\n",
    "from tqdm import tqdm\n",
    "from random import sample"
   ]
  },
  {
   "cell_type": "markdown",
   "metadata": {},
   "source": [
    "#### Habian archivos que tenian la info duplicada, asi que tenemos que poder borrar todo lo que sobra"
   ]
  },
  {
   "cell_type": "code",
   "execution_count": 2,
   "metadata": {},
   "outputs": [],
   "source": [
    "def borrarRepetidos(path):\n",
    "    file = open(path, 'r')\n",
    "    texto = file.read()\n",
    "    res = re.search('EOFNAME', texto)\n",
    "    file.close()\n",
    "    \n",
    "    if res == None:\n",
    "        return\n",
    "    \n",
    "    start,_ = res.span()\n",
    "    texto = texto[:start]\n",
    "    \n",
    "    file = open(path, 'w')\n",
    "    file.write(texto)\n",
    "    file.close()\n",
    "        "
   ]
  },
  {
   "cell_type": "markdown",
   "metadata": {},
   "source": [
    "### Va a ser util poder conseguir cada campo del archivo"
   ]
  },
  {
   "cell_type": "code",
   "execution_count": 3,
   "metadata": {},
   "outputs": [],
   "source": [
    "def get_file_field(texto, fieldRegexp):  \n",
    "    res = re.search(fieldRegexp, texto)\n",
    "    if res == None:\n",
    "        return \"\"\n",
    "    start, end = res.span()\n",
    "    res = texto[end:].split(\"\\n\", 1)[0]\n",
    "    if res[-1] == ' ':\n",
    "        res = res[:-1]\n",
    "    return res\n"
   ]
  },
  {
   "cell_type": "code",
   "execution_count": 4,
   "metadata": {},
   "outputs": [],
   "source": [
    "regexType = r'EDGE_WEIGHT_TYPE(( |\\t)+)?:(( |\\t)+?)'\n",
    "regexFormat =r'EDGE_WEIGHT_FORMAT(( |\\t)+)?:(( |\\t)+?)'\n",
    "regexName =r'NAME(( |\\t)+)?:(( |\\t)+?)'"
   ]
  },
  {
   "cell_type": "code",
   "execution_count": 5,
   "metadata": {},
   "outputs": [],
   "source": [
    "def bajar_archivos(file):\n",
    "    f = open(file, 'r')\n",
    "    lines=f.readlines()\n",
    "    for index,line in enumerate(lines):\n",
    "        print(index)\n",
    "        response = urllib.request.urlopen(line)\n",
    "        try:\n",
    "            html = response.read()\n",
    "        except:\n",
    "            index=index-1\n",
    "            continue\n",
    "        soup = BeautifulSoup(html,\"html5lib\")\n",
    "        text = soup.get_text(strip=True)\n",
    "        text += \"\\n\"\n",
    "        name = get_file_field(text, regexName)\n",
    "        path = \"Data/\"+name+\".txt\"\n",
    "        f1 = open(path, \"a\")\n",
    "        f1.write(text)\n",
    "        f1.close()\n",
    "        borrarRepetidos(path)"
   ]
  },
  {
   "cell_type": "code",
   "execution_count": 16,
   "metadata": {},
   "outputs": [
    {
     "name": "stdout",
     "output_type": "stream",
     "text": [
      "0\n",
      "1\n",
      "2\n",
      "3\n",
      "4\n",
      "5\n",
      "6\n",
      "7\n",
      "8\n",
      "9\n",
      "10\n",
      "11\n",
      "12\n",
      "13\n",
      "14\n",
      "15\n",
      "16\n",
      "17\n",
      "18\n",
      "19\n",
      "20\n",
      "21\n",
      "22\n",
      "23\n",
      "24\n",
      "25\n",
      "26\n",
      "27\n",
      "28\n",
      "29\n",
      "30\n",
      "31\n",
      "32\n",
      "33\n",
      "34\n",
      "35\n",
      "36\n",
      "37\n",
      "38\n",
      "39\n",
      "40\n",
      "41\n",
      "42\n",
      "43\n",
      "44\n",
      "45\n",
      "46\n",
      "47\n",
      "48\n",
      "49\n",
      "50\n",
      "51\n",
      "52\n",
      "53\n",
      "54\n",
      "55\n",
      "56\n",
      "57\n",
      "58\n",
      "59\n",
      "60\n",
      "61\n",
      "62\n",
      "63\n",
      "64\n",
      "65\n",
      "66\n",
      "67\n",
      "68\n",
      "69\n",
      "70\n",
      "71\n",
      "72\n",
      "73\n",
      "74\n",
      "75\n",
      "76\n",
      "77\n",
      "78\n",
      "79\n",
      "80\n",
      "81\n",
      "82\n",
      "83\n",
      "84\n",
      "85\n",
      "86\n",
      "87\n",
      "88\n",
      "89\n",
      "90\n",
      "91\n",
      "92\n",
      "93\n",
      "94\n",
      "95\n",
      "96\n",
      "97\n",
      "98\n",
      "99\n",
      "100\n",
      "101\n",
      "102\n",
      "103\n",
      "104\n",
      "105\n",
      "106\n",
      "107\n",
      "108\n",
      "109\n",
      "110\n"
     ]
    }
   ],
   "source": [
    "########bajar_archivos('links.txt')"
   ]
  },
  {
   "cell_type": "markdown",
   "metadata": {},
   "source": [
    "### Separamos los archivos por campo"
   ]
  },
  {
   "cell_type": "code",
   "execution_count": 6,
   "metadata": {},
   "outputs": [],
   "source": [
    "def split_by_type(path, _type, _format):\n",
    "    path=str(path)\n",
    "    files = [f for f in os.listdir(path) if os.path.isfile(os.path.join(path, f))]    \n",
    "    for file in files:\n",
    "        file=str(file)\n",
    "        f = open(path+file, 'r')\n",
    "        texto = f.read()\n",
    "        fileType = get_file_field(texto, _type)\n",
    "        typePath= path+fileType+'/'\n",
    "        \n",
    "        if not os.path.exists(typePath):\n",
    "            os.mkdir(typePath)\n",
    "        os.rename(path+file, typePath+'/'+file)\n",
    "        \n",
    "        isExplicit = fileType == \"EXPLICIT\"\n",
    "        \n",
    "        if isExplicit:\n",
    "            fileFormat = get_file_field(texto, _format)\n",
    "            formatPath = typePath + fileFormat + '/'\n",
    "            if not os.path.exists(formatPath):\n",
    "                os.mkdir(formatPath)\n",
    "            os.rename(typePath+'/'+file, formatPath+'/'+file)    "
   ]
  },
  {
   "cell_type": "code",
   "execution_count": 28,
   "metadata": {},
   "outputs": [],
   "source": [
    "split_by_type('Data/', regexType, regexFormat)"
   ]
  },
  {
   "cell_type": "markdown",
   "metadata": {},
   "source": [
    "### Empezamos a pasar los txt a csv"
   ]
  },
  {
   "cell_type": "markdown",
   "metadata": {},
   "source": [
    "#### Primero tenemos que copiar el arbol de carpetas para poder crear todos los csv ahi"
   ]
  },
  {
   "cell_type": "code",
   "execution_count": 7,
   "metadata": {},
   "outputs": [],
   "source": [
    "def getFoldersTree(path):\n",
    "    folders = [os.path.join(path, f) for f in os.listdir(path) if os.path.isdir(os.path.join(path, f))]\n",
    "    if len(folders) == 0:\n",
    "        return {}\n",
    "    else:\n",
    "        res = {}\n",
    "        \n",
    "        for folder in folders:\n",
    "            key = folder[folder.rfind('/')+1:]\n",
    "            res[key] = getFoldersTree(folder)\n",
    "        \n",
    "        return res"
   ]
  },
  {
   "cell_type": "code",
   "execution_count": 8,
   "metadata": {},
   "outputs": [],
   "source": [
    "def createFoldersTree(path, tree):\n",
    "    if len(tree) == 0:\n",
    "        return\n",
    "    for folder in tree:\n",
    "        newDir = os.path.join(path, folder)\n",
    "        os.mkdir(newDir)\n",
    "        createFoldersTree(newDir, tree[folder])"
   ]
  },
  {
   "cell_type": "code",
   "execution_count": 9,
   "metadata": {},
   "outputs": [],
   "source": [
    "def copyFoldersTree(src, dst):\n",
    "    if not os.path.isdir(dst):\n",
    "        os.mkdir(dst)\n",
    "    tree = getFoldersTree(src)\n",
    "    createFoldersTree(dst, tree)"
   ]
  },
  {
   "cell_type": "code",
   "execution_count": 10,
   "metadata": {},
   "outputs": [],
   "source": [
    "txtPath = 'Data'\n",
    "csvPath = 'DataCSV'\n",
    "nueva = 'DataTesting'\n",
    "nueva2 = 'DataValidacionOut'\n",
    "nueva3 = 'DataTrainingOut'\n",
    "nueva4 = 'DataMemoria'"
   ]
  },
  {
   "cell_type": "code",
   "execution_count": 60,
   "metadata": {},
   "outputs": [],
   "source": [
    "copyFoldersTree(csvPath, nueva4)\n",
    "# copyFoldersTree(csvPath, nueva3)"
   ]
  },
  {
   "cell_type": "markdown",
   "metadata": {},
   "source": [
    "##### Empezamos por todos los que tengan distancia euclidia (Todos menos EXPLICIT)"
   ]
  },
  {
   "cell_type": "markdown",
   "metadata": {},
   "source": [
    "#### Toma la distancia y lo pasa a matriz de adyacencia"
   ]
  },
  {
   "cell_type": "code",
   "execution_count": 6,
   "metadata": {},
   "outputs": [],
   "source": [
    "def nint(x):\n",
    "    if(x > 0):\n",
    "        return (int)(x+0.5)\n",
    "    return (int)(x-0.5)\n",
    "\n",
    "def ATTDistance(p1, p2):\n",
    "    deltaX = p1[0] - p2[0]\n",
    "    deltaY = p1[1] - p2[1]\n",
    "    Rij = np.sqrt( (deltaX*deltaX + deltaY*deltaY) / 10.0)\n",
    "    Tij = nint(Rij)\n",
    "    if(Tij < Rij):\n",
    "        return Tij+1\n",
    "\n",
    "    return Tij\n",
    "\n",
    "def getGEOCoords(p):\n",
    "    deg = nint(p[0])\n",
    "    minimo = p[0] - deg\n",
    "    latitud = np.pi * (deg + 5.0 * minimo / 3.0) / 180.0\n",
    "    deg = nint(p[1])\n",
    "    minimo = p[1] - deg\n",
    "    longitud = np.pi * (deg + 5.0 * minimo / 3.0) / 180.0\n",
    "\n",
    "    return np.array([latitud, longitud])\n",
    "\n",
    "\n",
    "def GEODistance(p1, p2):\n",
    "    coordsP1 = getGEOCoords(p1)\n",
    "    coordsP2 = getGEOCoords(p2)\n",
    "\n",
    "    R = 6378.388\n",
    "\n",
    "    q1 = np.cos(coordsP1[1] - coordsP2[1])\n",
    "    q2 = np.cos(coordsP1[0] - coordsP2[0])\n",
    "    q3 = np.cos(coordsP1[0] + coordsP2[0])\n",
    "    return nint(R * np.arccos( 0.5*((1.0+q1)*q2 - (1.0-q1)*q3))+ 1.0)\n",
    "\n",
    "def EUC2DDistance(p1, p2):\n",
    "    deltaX = p1[0] - p2[0]\n",
    "    deltaY = p1[1] - p2[1]\n",
    "    return nint( np.sqrt(deltaX*deltaX + deltaY*deltaY) + 0.5 )\n",
    "\n",
    "def CEIL2DDistance(p1, p2):\n",
    "    deltaX = p1[0] - p2[0]\n",
    "    deltaY = p1[1] - p2[1]\n",
    "    return np.ceil(np.sqrt(deltaX*deltaX + deltaY*deltaY) + 0.5 )\n",
    "\n",
    "getDistance = {\n",
    "    'ATT': ATTDistance,\n",
    "    'CEIL_2D': CEIL2DDistance,\n",
    "    'EUC_2D': EUC2DDistance,\n",
    "    'GEO': GEODistance,    \n",
    "}"
   ]
  },
  {
   "cell_type": "code",
   "execution_count": 9,
   "metadata": {},
   "outputs": [],
   "source": [
    "def guardar_matriz(df, tipo, path):\n",
    "    f = open(path, \"w\")\n",
    "    f.write(str(len(csv))+',\\n')\n",
    "    N= len(df)\n",
    "    \n",
    "    for i in range(N):\n",
    "        xA = float(df.iloc[i]['x'])\n",
    "        yA = float(df.iloc[i]['y'])\n",
    "        p1=np.array([xA, yA])\n",
    "        for j in range(N):\n",
    "            xB = float(df.iloc[j]['x'])\n",
    "            yB = float(df.iloc[j]['y'])\n",
    "            p2=np.array([xB, yB])\n",
    "            f.write(str(getDistance[tipo](p1, p2))+',')\n",
    "        \n",
    "        if i < N-1:\n",
    "            f.write('\\n')\n",
    "    f.close()"
   ]
  },
  {
   "cell_type": "code",
   "execution_count": 11,
   "metadata": {},
   "outputs": [
    {
     "data": {
      "text/plain": [
       "['Data/CEIL_2D/pla85900.txt',\n",
       " 'Data/CEIL_2D/pla7397.txt',\n",
       " 'Data/CEIL_2D/pla33810.txt',\n",
       " 'Data/CEIL_2D/dsj1000.txt',\n",
       " 'Data/GEO/gr666.txt',\n",
       " 'Data/GEO/gr137.txt',\n",
       " 'Data/GEO/gr431.txt',\n",
       " 'Data/GEO/burma14.txt',\n",
       " 'Data/GEO/gr96.txt',\n",
       " 'Data/GEO/ulysses16.tsp.txt',\n",
       " 'Data/GEO/gr202.txt',\n",
       " 'Data/GEO/ulysses22.tsp.txt',\n",
       " 'Data/GEO/gr229.txt',\n",
       " 'Data/GEO/ali535.txt',\n",
       " 'Data/EUC_2D/eil51.txt',\n",
       " 'Data/EUC_2D/rl1889.txt',\n",
       " 'Data/EUC_2D/pr226.txt',\n",
       " 'Data/EUC_2D/vm1748.txt',\n",
       " 'Data/EUC_2D/rat195.txt',\n",
       " 'Data/EUC_2D/rl5934.txt',\n",
       " 'Data/EUC_2D/fl1577.txt',\n",
       " 'Data/EUC_2D/tsp225.txt',\n",
       " 'Data/EUC_2D/nrw1379.txt',\n",
       " 'Data/EUC_2D/pr439.txt',\n",
       " 'Data/EUC_2D/pr124.txt',\n",
       " 'Data/EUC_2D/usa13509.txt',\n",
       " 'Data/EUC_2D/gil262.txt',\n",
       " 'Data/EUC_2D/rat575.txt',\n",
       " 'Data/EUC_2D/u2319.txt',\n",
       " 'Data/EUC_2D/d2103.txt',\n",
       " 'Data/EUC_2D/pr264.txt',\n",
       " 'Data/EUC_2D/pcb3038.txt',\n",
       " 'Data/EUC_2D/rd400.txt',\n",
       " 'Data/EUC_2D/pr1002.txt',\n",
       " 'Data/EUC_2D/berlin52.txt',\n",
       " 'Data/EUC_2D/vm1084.txt',\n",
       " 'Data/EUC_2D/fl3795.txt',\n",
       " 'Data/EUC_2D/a280.txt',\n",
       " 'Data/EUC_2D/fnl4461.txt',\n",
       " 'Data/EUC_2D/d1655.txt',\n",
       " 'Data/EUC_2D/rl1323.txt',\n",
       " 'Data/EUC_2D/kroB150.txt',\n",
       " 'Data/EUC_2D/rat783.txt',\n",
       " 'Data/EUC_2D/rl1304.txt',\n",
       " 'Data/EUC_2D/ch150.txt',\n",
       " 'Data/EUC_2D/rd100.txt',\n",
       " 'Data/EUC_2D/d1291.txt',\n",
       " 'Data/EUC_2D/u1817.txt',\n",
       " 'Data/EUC_2D/kroA200.txt',\n",
       " 'Data/EUC_2D/d198.txt',\n",
       " 'Data/EUC_2D/kroA100.txt',\n",
       " 'Data/EUC_2D/rl5915.txt',\n",
       " 'Data/EUC_2D/u1432.txt',\n",
       " 'Data/EUC_2D/pr2392.txt',\n",
       " 'Data/EUC_2D/eil76.txt',\n",
       " 'Data/EUC_2D/fl1400.txt',\n",
       " 'Data/EUC_2D/kroB200.txt',\n",
       " 'Data/EUC_2D/pr144.txt',\n",
       " 'Data/EUC_2D/brd14051.txt',\n",
       " 'Data/EUC_2D/lin318.txt',\n",
       " 'Data/EUC_2D/u2152.txt',\n",
       " 'Data/EUC_2D/pr152.txt',\n",
       " 'Data/EUC_2D/rat99.txt',\n",
       " 'Data/EUC_2D/kroE100.txt',\n",
       " 'Data/EUC_2D/kroD100.txt',\n",
       " 'Data/EUC_2D/d657.txt',\n",
       " 'Data/EUC_2D/u1060.txt',\n",
       " 'Data/EUC_2D/u574.txt',\n",
       " 'Data/EUC_2D/lin105.txt',\n",
       " 'Data/EUC_2D/ts225.txt',\n",
       " 'Data/EUC_2D/bier127.txt',\n",
       " 'Data/EUC_2D/u159.txt',\n",
       " 'Data/EUC_2D/pr299.txt',\n",
       " 'Data/EUC_2D/ch130.txt',\n",
       " 'Data/EUC_2D/p654.txt',\n",
       " 'Data/EUC_2D/d493.txt',\n",
       " 'Data/EUC_2D/kroB100.txt',\n",
       " 'Data/EUC_2D/kroA150.txt',\n",
       " 'Data/EUC_2D/d18512.txt',\n",
       " 'Data/EUC_2D/pcb442.txt',\n",
       " 'Data/EUC_2D/pr107.txt',\n",
       " 'Data/EUC_2D/fl417.txt',\n",
       " 'Data/EUC_2D/pr76.txt',\n",
       " 'Data/EUC_2D/eil101.txt',\n",
       " 'Data/EUC_2D/rl11849.txt',\n",
       " 'Data/EUC_2D/pcb1173.txt',\n",
       " 'Data/EUC_2D/pr136.txt',\n",
       " 'Data/EUC_2D/st70.txt',\n",
       " 'Data/EUC_2D/u724.txt',\n",
       " 'Data/EUC_2D/kroC100.txt',\n",
       " 'Data/ATT/att532.txt',\n",
       " 'Data/ATT/att48.txt']"
      ]
     },
     "execution_count": 11,
     "metadata": {},
     "output_type": "execute_result"
    }
   ],
   "source": [
    "excluded = 'EXPLICIT'\n",
    "folders = [os.path.join(txtPath, f) for f in os.listdir(txtPath) if f != excluded]\n",
    "\n",
    "files = []\n",
    "for path in folders:\n",
    "    for file in os.listdir(path):\n",
    "        if os.path.isfile(os.path.join(path, file)):\n",
    "            files.append(os.path.join(path,file))\n",
    "files"
   ]
  },
  {
   "cell_type": "markdown",
   "metadata": {},
   "source": [
    "##### Ordeno los archivos de menor a mayor para poder hacer mas csvs en menos tiempo"
   ]
  },
  {
   "cell_type": "code",
   "execution_count": 12,
   "metadata": {
    "scrolled": false
   },
   "outputs": [
    {
     "ename": "NameError",
     "evalue": "name 'filesValidacion' is not defined",
     "output_type": "error",
     "traceback": [
      "\u001b[0;31m---------------------------------------------------------------------------\u001b[0m",
      "\u001b[0;31mNameError\u001b[0m                                 Traceback (most recent call last)",
      "\u001b[0;32m<ipython-input-12-862627c3a5e6>\u001b[0m in \u001b[0;36m<module>\u001b[0;34m\u001b[0m\n\u001b[1;32m     19\u001b[0m \u001b[0;31m#     filesTraining.append(key)\u001b[0m\u001b[0;34m\u001b[0m\u001b[0;34m\u001b[0m\u001b[0;34m\u001b[0m\u001b[0m\n\u001b[1;32m     20\u001b[0m \u001b[0;34m\u001b[0m\u001b[0m\n\u001b[0;32m---> 21\u001b[0;31m \u001b[0mprint\u001b[0m\u001b[0;34m(\u001b[0m\u001b[0mfilesValidacion\u001b[0m\u001b[0;34m)\u001b[0m\u001b[0;34m\u001b[0m\u001b[0;34m\u001b[0m\u001b[0m\n\u001b[0m",
      "\u001b[0;31mNameError\u001b[0m: name 'filesValidacion' is not defined"
     ]
    }
   ],
   "source": [
    "def fileSize(file):\n",
    "    csv= pd.read_csv(file,delim_whitespace=True, skiprows= [0,1,2,3,4,5], names=[\"Nodo\", \"x\", \"y\"])\n",
    "    return len(csv)-1\n",
    "\n",
    "# files = np.array(files)\n",
    "\n",
    "# largos = {}\n",
    "# for file in files:\n",
    "#     fSize = fileSize(file)\n",
    "#     if fSize < 490:\n",
    "#         largos[csvPath+file[file.find('/'):]] = fSize\n",
    "        \n",
    "# keys = list(largos)\n",
    "# filesValidacion = sample(keys, int(len(keys)*0.3))\n",
    "# filesTraining = []\n",
    "# for key in largos:\n",
    "#     if key in filesValidacion:\n",
    "#         continue\n",
    "#     filesTraining.append(key)\n",
    "\n",
    "# print(filesValidacion)"
   ]
  },
  {
   "cell_type": "code",
   "execution_count": 16,
   "metadata": {},
   "outputs": [],
   "source": [
    "filesTesting = [] \n",
    "for file in files:\n",
    "    N = fileSize(file)\n",
    "    if 490 < N < 3000:\n",
    "        filesTesting.append(file)"
   ]
  },
  {
   "cell_type": "code",
   "execution_count": 17,
   "metadata": {},
   "outputs": [
    {
     "data": {
      "text/plain": [
       "30"
      ]
     },
     "execution_count": 17,
     "metadata": {},
     "output_type": "execute_result"
    }
   ],
   "source": [
    "len(filesTesting)"
   ]
  },
  {
   "cell_type": "code",
   "execution_count": 18,
   "metadata": {},
   "outputs": [],
   "source": [
    "for file in filesTesting:\n",
    "    os.system(f'cp {file} {\"DataTesting\"+file[file.find(\"/\"):]}')"
   ]
  },
  {
   "cell_type": "code",
   "execution_count": 53,
   "metadata": {},
   "outputs": [],
   "source": [
    "for file in filesTraining:\n",
    "    os.system(f'cp {file} {\"DataTraining\"+file[file.find(\"/\"):]}')\n",
    "    \n",
    "for file in filesValidacion:\n",
    "    os.system(f'cp {file} {\"DataValidacion\"+file[file.find(\"/\"):]}')\n",
    "\n"
   ]
  },
  {
   "cell_type": "code",
   "execution_count": 5,
   "metadata": {},
   "outputs": [
    {
     "name": "stdout",
     "output_type": "stream",
     "text": [
      "50\n",
      "30\n"
     ]
    }
   ],
   "source": [
    "import numpy as np\n",
    "\n",
    "tito = np.array([15, 17, 23, 49, 52, 53, 71, 77, 77, 97, 100, 101, 101, 101, 101, 101, 101, 102, 106, 108, 125, 128, 131, 137, 138, 145, 151, 151, 151, 153, 160, 196, 199, 201, 201, 203, 226, 226, 227, 230, 263, 265, 281, 300, 318, 401, 418, 432, 440, 443, 494, 533, 536, 575, 576, 655, 658, 667, 725, 784, 1001, 1002, 1061, 1085, 1174, 1292, 1305, 1324, 1380, 1401, 1433, 1578, 1656, 1749, 1818, 1890, 2104, 2153, 2320, 2393, 3039, 3796, 4462, 5916, 5935, 7398, 11850, 13512, 14052, 18513, 33811, 85901])\n",
    "\n",
    "menoresA500 = 0\n",
    "grandesPeroUtiles = 0\n",
    "\n",
    "for size in tito:\n",
    "    if size < 490:\n",
    "        menoresA500 += 1\n",
    "    if size > 490 and size < 3000:\n",
    "        grandesPeroUtiles += 1\n",
    "\n",
    "print(menoresA500)\n",
    "print(grandesPeroUtiles)\n"
   ]
  },
  {
   "cell_type": "code",
   "execution_count": 113,
   "metadata": {},
   "outputs": [
    {
     "name": "stdout",
     "output_type": "stream",
     "text": [
      "92\n",
      "[15, 17, 23, 49, 52, 53, 71, 77, 77, 97, 100, 101, 101, 101, 101, 101, 101, 102, 106, 108, 125, 128, 131, 137, 138, 145, 151, 151, 151, 153, 160, 196, 199, 201, 201, 203, 226, 226, 227, 230, 263, 265, 281, 300, 318, 401, 418, 432, 440, 443, 494, 533, 536, 575, 576, 655, 658, 667, 725, 784, 1001, 1002, 1061, 1085, 1174, 1292, 1305, 1324, 1380, 1401, 1433, 1578, 1656, 1749, 1818, 1890, 2104, 2153, 2320, 2393, 3039, 3796, 4462, 5916, 5935, 7398, 11850, 13512, 14052, 18513, 33811, 85901]\n"
     ]
    }
   ],
   "source": [
    "print(len(lens))\n",
    "print(lens)"
   ]
  },
  {
   "cell_type": "code",
   "execution_count": null,
   "metadata": {},
   "outputs": [],
   "source": [
    "#Ultimo que estaba en progreso.\n",
    "#Estoy con Data/EUC_2D/nrw1379.txt"
   ]
  },
  {
   "cell_type": "code",
   "execution_count": 13,
   "metadata": {},
   "outputs": [
    {
     "name": "stderr",
     "output_type": "stream",
     "text": [
      " 57%|█████▋    | 52/92 [00:00<00:00, 516.21it/s]"
     ]
    },
    {
     "name": "stdout",
     "output_type": "stream",
     "text": [
      "Estoy con Data/GEO/burma14.txt\n",
      "\n",
      "Estoy con Data/GEO/ulysses16.tsp.txt\n",
      "\n",
      "Estoy con Data/GEO/ulysses22.tsp.txt\n",
      "\n",
      "Estoy con Data/ATT/att48.txt\n",
      "\n",
      "Estoy con Data/EUC_2D/eil51.txt\n",
      "\n",
      "Estoy con Data/EUC_2D/berlin52.txt\n",
      "\n",
      "Estoy con Data/EUC_2D/st70.txt\n",
      "\n",
      "Estoy con Data/EUC_2D/pr76.txt\n",
      "\n",
      "Estoy con Data/EUC_2D/eil76.txt\n",
      "\n",
      "Estoy con Data/GEO/gr96.txt\n",
      "\n",
      "Estoy con Data/EUC_2D/rat99.txt\n",
      "\n",
      "Estoy con Data/EUC_2D/kroC100.txt\n",
      "\n",
      "Estoy con Data/EUC_2D/kroB100.txt\n",
      "\n",
      "Estoy con Data/EUC_2D/kroD100.txt\n",
      "\n",
      "Estoy con Data/EUC_2D/kroE100.txt\n",
      "\n",
      "Estoy con Data/EUC_2D/kroA100.txt\n",
      "\n",
      "Estoy con Data/EUC_2D/rd100.txt\n",
      "\n",
      "Estoy con Data/EUC_2D/eil101.txt\n",
      "\n",
      "Estoy con Data/EUC_2D/lin105.txt\n",
      "\n",
      "Estoy con Data/EUC_2D/pr107.txt\n",
      "\n",
      "Estoy con Data/EUC_2D/pr124.txt\n",
      "\n",
      "Estoy con Data/EUC_2D/bier127.txt\n",
      "\n",
      "Estoy con Data/EUC_2D/ch130.txt\n",
      "\n",
      "Estoy con Data/EUC_2D/pr136.txt\n",
      "\n",
      "Estoy con Data/GEO/gr137.txt\n",
      "\n",
      "Estoy con Data/EUC_2D/pr144.txt\n",
      "\n",
      "Estoy con Data/EUC_2D/ch150.txt\n",
      "\n",
      "Estoy con Data/EUC_2D/kroA150.txt\n",
      "\n",
      "Estoy con Data/EUC_2D/kroB150.txt\n",
      "\n",
      "Estoy con Data/EUC_2D/pr152.txt\n",
      "\n",
      "Estoy con Data/EUC_2D/u159.txt\n",
      "\n",
      "Estoy con Data/EUC_2D/rat195.txt\n",
      "\n",
      "Estoy con Data/EUC_2D/d198.txt\n",
      "\n",
      "Estoy con Data/EUC_2D/kroB200.txt\n",
      "\n",
      "Estoy con Data/EUC_2D/kroA200.txt\n",
      "\n",
      "Estoy con Data/GEO/gr202.txt\n",
      "\n",
      "Estoy con Data/EUC_2D/tsp225.txt\n",
      "\n",
      "Estoy con Data/EUC_2D/ts225.txt\n",
      "\n",
      "Estoy con Data/EUC_2D/pr226.txt\n",
      "\n",
      "Estoy con Data/GEO/gr229.txt\n",
      "\n",
      "Estoy con Data/EUC_2D/gil262.txt\n",
      "\n",
      "Estoy con Data/EUC_2D/pr264.txt\n",
      "\n",
      "Estoy con Data/EUC_2D/a280.txt\n",
      "\n",
      "Estoy con Data/EUC_2D/pr299.txt\n",
      "\n",
      "Estoy con Data/EUC_2D/lin318.txt\n",
      "\n",
      "Estoy con Data/EUC_2D/rd400.txt\n",
      "\n",
      "Estoy con Data/EUC_2D/fl417.txt\n",
      "\n",
      "Estoy con Data/GEO/gr431.txt\n",
      "\n",
      "Estoy con Data/EUC_2D/pr439.txt\n",
      "\n",
      "Estoy con Data/EUC_2D/pcb442.txt\n",
      "\n",
      "Estoy con Data/EUC_2D/d493.txt\n",
      "\n",
      "Estoy con Data/ATT/att532.txt\n",
      "\n",
      "Estoy con Data/GEO/ali535.txt\n",
      "\n",
      "Estoy con Data/EUC_2D/u574.txt\n",
      "\n",
      "Estoy con Data/EUC_2D/rat575.txt\n",
      "\n",
      "Estoy con Data/EUC_2D/p654.txt\n",
      "\n",
      "Estoy con Data/EUC_2D/d657.txt\n",
      "\n",
      "Estoy con Data/GEO/gr666.txt\n",
      "\n",
      "Estoy con Data/EUC_2D/u724.txt\n",
      "\n",
      "Estoy con Data/EUC_2D/rat783.txt\n",
      "\n",
      "Estoy con Data/CEIL_2D/dsj1000.txt\n",
      "\n",
      "Estoy con Data/EUC_2D/pr1002.txt\n",
      "\n",
      "Estoy con Data/EUC_2D/u1060.txt\n",
      "\n",
      "Estoy con Data/EUC_2D/vm1084.txt\n",
      "\n",
      "Estoy con Data/EUC_2D/pcb1173.txt\n",
      "\n",
      "Estoy con Data/EUC_2D/d1291.txt\n",
      "\n",
      "Estoy con Data/EUC_2D/rl1304.txt\n",
      "\n",
      "Estoy con Data/EUC_2D/rl1323.txt\n",
      "\n",
      "Estoy con Data/EUC_2D/nrw1379.txt\n",
      "\n"
     ]
    },
    {
     "name": "stderr",
     "output_type": "stream",
     "text": [
      " 75%|███████▌  | 69/92 [06:28<02:47,  7.27s/it] "
     ]
    },
    {
     "name": "stdout",
     "output_type": "stream",
     "text": [
      "Estoy con Data/EUC_2D/fl1400.txt\n",
      "\n"
     ]
    },
    {
     "name": "stderr",
     "output_type": "stream",
     "text": [
      "\r",
      " 76%|███████▌  | 70/92 [12:32<06:04, 16.57s/it]"
     ]
    },
    {
     "name": "stdout",
     "output_type": "stream",
     "text": [
      "Estoy con Data/EUC_2D/u1432.txt\n",
      "\n"
     ]
    },
    {
     "name": "stderr",
     "output_type": "stream",
     "text": [
      "\r",
      " 77%|███████▋  | 71/92 [18:50<10:20, 29.54s/it]"
     ]
    },
    {
     "name": "stdout",
     "output_type": "stream",
     "text": [
      "Estoy con Data/EUC_2D/fl1577.txt\n",
      "\n"
     ]
    },
    {
     "name": "stderr",
     "output_type": "stream",
     "text": [
      "\r",
      " 78%|███████▊  | 72/92 [25:51<16:13, 48.65s/it]"
     ]
    },
    {
     "name": "stdout",
     "output_type": "stream",
     "text": [
      "Estoy con Data/EUC_2D/d1655.txt\n",
      "\n"
     ]
    },
    {
     "name": "stderr",
     "output_type": "stream",
     "text": [
      "\r",
      " 79%|███████▉  | 73/92 [33:36<23:59, 75.76s/it]"
     ]
    },
    {
     "name": "stdout",
     "output_type": "stream",
     "text": [
      "Estoy con Data/EUC_2D/vm1748.txt\n",
      "\n"
     ]
    },
    {
     "name": "stderr",
     "output_type": "stream",
     "text": [
      "\r",
      " 80%|████████  | 74/92 [42:16<34:03, 113.52s/it]"
     ]
    },
    {
     "name": "stdout",
     "output_type": "stream",
     "text": [
      "Estoy con Data/EUC_2D/u1817.txt\n",
      "\n"
     ]
    },
    {
     "name": "stderr",
     "output_type": "stream",
     "text": [
      "\r",
      " 82%|████████▏ | 75/92 [51:35<45:50, 161.81s/it]"
     ]
    },
    {
     "name": "stdout",
     "output_type": "stream",
     "text": [
      "Estoy con Data/EUC_2D/rl1889.txt\n",
      "\n"
     ]
    },
    {
     "name": "stderr",
     "output_type": "stream",
     "text": [
      "\r",
      " 83%|████████▎ | 76/92 [1:01:25<58:29, 219.34s/it]"
     ]
    },
    {
     "name": "stdout",
     "output_type": "stream",
     "text": [
      "Estoy con Data/EUC_2D/d2103.txt\n",
      "\n"
     ]
    },
    {
     "name": "stderr",
     "output_type": "stream",
     "text": [
      " 83%|████████▎ | 76/92 [1:02:51<13:13, 49.62s/it] \n"
     ]
    },
    {
     "ename": "KeyboardInterrupt",
     "evalue": "",
     "output_type": "error",
     "traceback": [
      "\u001b[0;31m---------------------------------------------------------------------------\u001b[0m",
      "\u001b[0;31mKeyboardInterrupt\u001b[0m                         Traceback (most recent call last)",
      "\u001b[0;32m<ipython-input-13-86ddb8688fde>\u001b[0m in \u001b[0;36m<module>\u001b[0;34m\u001b[0m\n\u001b[1;32m     14\u001b[0m     \u001b[0mtipo\u001b[0m \u001b[0;34m=\u001b[0m \u001b[0mget_file_field\u001b[0m\u001b[0;34m(\u001b[0m\u001b[0mtexto\u001b[0m\u001b[0;34m,\u001b[0m \u001b[0mregexType\u001b[0m\u001b[0;34m)\u001b[0m\u001b[0;34m\u001b[0m\u001b[0;34m\u001b[0m\u001b[0m\n\u001b[1;32m     15\u001b[0m     \u001b[0mf\u001b[0m\u001b[0;34m.\u001b[0m\u001b[0mclose\u001b[0m\u001b[0;34m(\u001b[0m\u001b[0;34m)\u001b[0m\u001b[0;34m\u001b[0m\u001b[0;34m\u001b[0m\u001b[0m\n\u001b[0;32m---> 16\u001b[0;31m     \u001b[0mguardar_matriz\u001b[0m\u001b[0;34m(\u001b[0m\u001b[0mcsv\u001b[0m\u001b[0;34m,\u001b[0m \u001b[0mtipo\u001b[0m\u001b[0;34m,\u001b[0m\u001b[0mnuevoPath\u001b[0m\u001b[0;34m)\u001b[0m\u001b[0;34m\u001b[0m\u001b[0;34m\u001b[0m\u001b[0m\n\u001b[0m",
      "\u001b[0;32m<ipython-input-9-a183d8bf8591>\u001b[0m in \u001b[0;36mguardar_matriz\u001b[0;34m(df, tipo, path)\u001b[0m\n\u001b[1;32m     10\u001b[0m         \u001b[0;32mfor\u001b[0m \u001b[0mj\u001b[0m \u001b[0;32min\u001b[0m \u001b[0mrange\u001b[0m\u001b[0;34m(\u001b[0m\u001b[0mN\u001b[0m\u001b[0;34m)\u001b[0m\u001b[0;34m:\u001b[0m\u001b[0;34m\u001b[0m\u001b[0;34m\u001b[0m\u001b[0m\n\u001b[1;32m     11\u001b[0m             \u001b[0mxB\u001b[0m \u001b[0;34m=\u001b[0m \u001b[0mfloat\u001b[0m\u001b[0;34m(\u001b[0m\u001b[0mdf\u001b[0m\u001b[0;34m.\u001b[0m\u001b[0miloc\u001b[0m\u001b[0;34m[\u001b[0m\u001b[0mj\u001b[0m\u001b[0;34m]\u001b[0m\u001b[0;34m[\u001b[0m\u001b[0;34m'x'\u001b[0m\u001b[0;34m]\u001b[0m\u001b[0;34m)\u001b[0m\u001b[0;34m\u001b[0m\u001b[0;34m\u001b[0m\u001b[0m\n\u001b[0;32m---> 12\u001b[0;31m             \u001b[0myB\u001b[0m \u001b[0;34m=\u001b[0m \u001b[0mfloat\u001b[0m\u001b[0;34m(\u001b[0m\u001b[0mdf\u001b[0m\u001b[0;34m.\u001b[0m\u001b[0miloc\u001b[0m\u001b[0;34m[\u001b[0m\u001b[0mj\u001b[0m\u001b[0;34m]\u001b[0m\u001b[0;34m[\u001b[0m\u001b[0;34m'y'\u001b[0m\u001b[0;34m]\u001b[0m\u001b[0;34m)\u001b[0m\u001b[0;34m\u001b[0m\u001b[0;34m\u001b[0m\u001b[0m\n\u001b[0m\u001b[1;32m     13\u001b[0m             \u001b[0mp2\u001b[0m\u001b[0;34m=\u001b[0m\u001b[0mnp\u001b[0m\u001b[0;34m.\u001b[0m\u001b[0marray\u001b[0m\u001b[0;34m(\u001b[0m\u001b[0;34m[\u001b[0m\u001b[0mxB\u001b[0m\u001b[0;34m,\u001b[0m \u001b[0myB\u001b[0m\u001b[0;34m]\u001b[0m\u001b[0;34m)\u001b[0m\u001b[0;34m\u001b[0m\u001b[0;34m\u001b[0m\u001b[0m\n\u001b[1;32m     14\u001b[0m             \u001b[0mf\u001b[0m\u001b[0;34m.\u001b[0m\u001b[0mwrite\u001b[0m\u001b[0;34m(\u001b[0m\u001b[0mstr\u001b[0m\u001b[0;34m(\u001b[0m\u001b[0mgetDistance\u001b[0m\u001b[0;34m[\u001b[0m\u001b[0mtipo\u001b[0m\u001b[0;34m]\u001b[0m\u001b[0;34m(\u001b[0m\u001b[0mp1\u001b[0m\u001b[0;34m,\u001b[0m \u001b[0mp2\u001b[0m\u001b[0;34m)\u001b[0m\u001b[0;34m)\u001b[0m\u001b[0;34m+\u001b[0m\u001b[0;34m','\u001b[0m\u001b[0;34m)\u001b[0m\u001b[0;34m\u001b[0m\u001b[0;34m\u001b[0m\u001b[0m\n",
      "\u001b[0;32m~/HOME/.virtualenvs/venv_algo3/lib/python3.8/site-packages/pandas/core/indexing.py\u001b[0m in \u001b[0;36m__getitem__\u001b[0;34m(self, key)\u001b[0m\n\u001b[1;32m    893\u001b[0m \u001b[0;34m\u001b[0m\u001b[0m\n\u001b[1;32m    894\u001b[0m             \u001b[0mmaybe_callable\u001b[0m \u001b[0;34m=\u001b[0m \u001b[0mcom\u001b[0m\u001b[0;34m.\u001b[0m\u001b[0mapply_if_callable\u001b[0m\u001b[0;34m(\u001b[0m\u001b[0mkey\u001b[0m\u001b[0;34m,\u001b[0m \u001b[0mself\u001b[0m\u001b[0;34m.\u001b[0m\u001b[0mobj\u001b[0m\u001b[0;34m)\u001b[0m\u001b[0;34m\u001b[0m\u001b[0;34m\u001b[0m\u001b[0m\n\u001b[0;32m--> 895\u001b[0;31m             \u001b[0;32mreturn\u001b[0m \u001b[0mself\u001b[0m\u001b[0;34m.\u001b[0m\u001b[0m_getitem_axis\u001b[0m\u001b[0;34m(\u001b[0m\u001b[0mmaybe_callable\u001b[0m\u001b[0;34m,\u001b[0m \u001b[0maxis\u001b[0m\u001b[0;34m=\u001b[0m\u001b[0maxis\u001b[0m\u001b[0;34m)\u001b[0m\u001b[0;34m\u001b[0m\u001b[0;34m\u001b[0m\u001b[0m\n\u001b[0m\u001b[1;32m    896\u001b[0m \u001b[0;34m\u001b[0m\u001b[0m\n\u001b[1;32m    897\u001b[0m     \u001b[0;32mdef\u001b[0m \u001b[0m_is_scalar_access\u001b[0m\u001b[0;34m(\u001b[0m\u001b[0mself\u001b[0m\u001b[0;34m,\u001b[0m \u001b[0mkey\u001b[0m\u001b[0;34m:\u001b[0m \u001b[0mTuple\u001b[0m\u001b[0;34m)\u001b[0m\u001b[0;34m:\u001b[0m\u001b[0;34m\u001b[0m\u001b[0;34m\u001b[0m\u001b[0m\n",
      "\u001b[0;32m~/HOME/.virtualenvs/venv_algo3/lib/python3.8/site-packages/pandas/core/indexing.py\u001b[0m in \u001b[0;36m_getitem_axis\u001b[0;34m(self, key, axis)\u001b[0m\n\u001b[1;32m   1501\u001b[0m             \u001b[0mself\u001b[0m\u001b[0;34m.\u001b[0m\u001b[0m_validate_integer\u001b[0m\u001b[0;34m(\u001b[0m\u001b[0mkey\u001b[0m\u001b[0;34m,\u001b[0m \u001b[0maxis\u001b[0m\u001b[0;34m)\u001b[0m\u001b[0;34m\u001b[0m\u001b[0;34m\u001b[0m\u001b[0m\n\u001b[1;32m   1502\u001b[0m \u001b[0;34m\u001b[0m\u001b[0m\n\u001b[0;32m-> 1503\u001b[0;31m             \u001b[0;32mreturn\u001b[0m \u001b[0mself\u001b[0m\u001b[0;34m.\u001b[0m\u001b[0mobj\u001b[0m\u001b[0;34m.\u001b[0m\u001b[0m_ixs\u001b[0m\u001b[0;34m(\u001b[0m\u001b[0mkey\u001b[0m\u001b[0;34m,\u001b[0m \u001b[0maxis\u001b[0m\u001b[0;34m=\u001b[0m\u001b[0maxis\u001b[0m\u001b[0;34m)\u001b[0m\u001b[0;34m\u001b[0m\u001b[0;34m\u001b[0m\u001b[0m\n\u001b[0m\u001b[1;32m   1504\u001b[0m \u001b[0;34m\u001b[0m\u001b[0m\n\u001b[1;32m   1505\u001b[0m     \u001b[0;32mdef\u001b[0m \u001b[0m_get_slice_axis\u001b[0m\u001b[0;34m(\u001b[0m\u001b[0mself\u001b[0m\u001b[0;34m,\u001b[0m \u001b[0mslice_obj\u001b[0m\u001b[0;34m:\u001b[0m \u001b[0mslice\u001b[0m\u001b[0;34m,\u001b[0m \u001b[0maxis\u001b[0m\u001b[0;34m:\u001b[0m \u001b[0mint\u001b[0m\u001b[0;34m)\u001b[0m\u001b[0;34m:\u001b[0m\u001b[0;34m\u001b[0m\u001b[0;34m\u001b[0m\u001b[0m\n",
      "\u001b[0;32m~/HOME/.virtualenvs/venv_algo3/lib/python3.8/site-packages/pandas/core/frame.py\u001b[0m in \u001b[0;36m_ixs\u001b[0;34m(self, i, axis)\u001b[0m\n\u001b[1;32m   2949\u001b[0m             \u001b[0;31m# if we are a copy, mark as such\u001b[0m\u001b[0;34m\u001b[0m\u001b[0;34m\u001b[0m\u001b[0;34m\u001b[0m\u001b[0m\n\u001b[1;32m   2950\u001b[0m             \u001b[0mcopy\u001b[0m \u001b[0;34m=\u001b[0m \u001b[0misinstance\u001b[0m\u001b[0;34m(\u001b[0m\u001b[0mnew_values\u001b[0m\u001b[0;34m,\u001b[0m \u001b[0mnp\u001b[0m\u001b[0;34m.\u001b[0m\u001b[0mndarray\u001b[0m\u001b[0;34m)\u001b[0m \u001b[0;32mand\u001b[0m \u001b[0mnew_values\u001b[0m\u001b[0;34m.\u001b[0m\u001b[0mbase\u001b[0m \u001b[0;32mis\u001b[0m \u001b[0;32mNone\u001b[0m\u001b[0;34m\u001b[0m\u001b[0;34m\u001b[0m\u001b[0m\n\u001b[0;32m-> 2951\u001b[0;31m             result = self._constructor_sliced(\n\u001b[0m\u001b[1;32m   2952\u001b[0m                 \u001b[0mnew_values\u001b[0m\u001b[0;34m,\u001b[0m\u001b[0;34m\u001b[0m\u001b[0;34m\u001b[0m\u001b[0m\n\u001b[1;32m   2953\u001b[0m                 \u001b[0mindex\u001b[0m\u001b[0;34m=\u001b[0m\u001b[0mself\u001b[0m\u001b[0;34m.\u001b[0m\u001b[0mcolumns\u001b[0m\u001b[0;34m,\u001b[0m\u001b[0;34m\u001b[0m\u001b[0;34m\u001b[0m\u001b[0m\n",
      "\u001b[0;32m~/HOME/.virtualenvs/venv_algo3/lib/python3.8/site-packages/pandas/core/series.py\u001b[0m in \u001b[0;36m__init__\u001b[0;34m(self, data, index, dtype, name, copy, fastpath)\u001b[0m\n\u001b[1;32m    362\u001b[0m                     \u001b[0mdata\u001b[0m \u001b[0;34m=\u001b[0m \u001b[0mdata\u001b[0m\u001b[0;34m.\u001b[0m\u001b[0mcopy\u001b[0m\u001b[0;34m(\u001b[0m\u001b[0;34m)\u001b[0m\u001b[0;34m\u001b[0m\u001b[0;34m\u001b[0m\u001b[0m\n\u001b[1;32m    363\u001b[0m             \u001b[0;32melse\u001b[0m\u001b[0;34m:\u001b[0m\u001b[0;34m\u001b[0m\u001b[0;34m\u001b[0m\u001b[0m\n\u001b[0;32m--> 364\u001b[0;31m                 \u001b[0mdata\u001b[0m \u001b[0;34m=\u001b[0m \u001b[0msanitize_array\u001b[0m\u001b[0;34m(\u001b[0m\u001b[0mdata\u001b[0m\u001b[0;34m,\u001b[0m \u001b[0mindex\u001b[0m\u001b[0;34m,\u001b[0m \u001b[0mdtype\u001b[0m\u001b[0;34m,\u001b[0m \u001b[0mcopy\u001b[0m\u001b[0;34m,\u001b[0m \u001b[0mraise_cast_failure\u001b[0m\u001b[0;34m=\u001b[0m\u001b[0;32mTrue\u001b[0m\u001b[0;34m)\u001b[0m\u001b[0;34m\u001b[0m\u001b[0;34m\u001b[0m\u001b[0m\n\u001b[0m\u001b[1;32m    365\u001b[0m \u001b[0;34m\u001b[0m\u001b[0m\n\u001b[1;32m    366\u001b[0m                 \u001b[0mdata\u001b[0m \u001b[0;34m=\u001b[0m \u001b[0mSingleBlockManager\u001b[0m\u001b[0;34m.\u001b[0m\u001b[0mfrom_array\u001b[0m\u001b[0;34m(\u001b[0m\u001b[0mdata\u001b[0m\u001b[0;34m,\u001b[0m \u001b[0mindex\u001b[0m\u001b[0;34m)\u001b[0m\u001b[0;34m\u001b[0m\u001b[0;34m\u001b[0m\u001b[0m\n",
      "\u001b[0;32m~/HOME/.virtualenvs/venv_algo3/lib/python3.8/site-packages/pandas/core/construction.py\u001b[0m in \u001b[0;36msanitize_array\u001b[0;34m(data, index, dtype, copy, raise_cast_failure)\u001b[0m\n\u001b[1;32m    459\u001b[0m         \u001b[0;32melse\u001b[0m\u001b[0;34m:\u001b[0m\u001b[0;34m\u001b[0m\u001b[0;34m\u001b[0m\u001b[0m\n\u001b[1;32m    460\u001b[0m             \u001b[0;31m# we will try to copy be-definition here\u001b[0m\u001b[0;34m\u001b[0m\u001b[0;34m\u001b[0m\u001b[0;34m\u001b[0m\u001b[0m\n\u001b[0;32m--> 461\u001b[0;31m             \u001b[0msubarr\u001b[0m \u001b[0;34m=\u001b[0m \u001b[0m_try_cast\u001b[0m\u001b[0;34m(\u001b[0m\u001b[0mdata\u001b[0m\u001b[0;34m,\u001b[0m \u001b[0mdtype\u001b[0m\u001b[0;34m,\u001b[0m \u001b[0mcopy\u001b[0m\u001b[0;34m,\u001b[0m \u001b[0mraise_cast_failure\u001b[0m\u001b[0;34m)\u001b[0m\u001b[0;34m\u001b[0m\u001b[0;34m\u001b[0m\u001b[0m\n\u001b[0m\u001b[1;32m    462\u001b[0m \u001b[0;34m\u001b[0m\u001b[0m\n\u001b[1;32m    463\u001b[0m     \u001b[0;32melif\u001b[0m \u001b[0misinstance\u001b[0m\u001b[0;34m(\u001b[0m\u001b[0mdata\u001b[0m\u001b[0;34m,\u001b[0m \u001b[0mABCExtensionArray\u001b[0m\u001b[0;34m)\u001b[0m\u001b[0;34m:\u001b[0m\u001b[0;34m\u001b[0m\u001b[0;34m\u001b[0m\u001b[0m\n",
      "\u001b[0;32m~/HOME/.virtualenvs/venv_algo3/lib/python3.8/site-packages/pandas/core/construction.py\u001b[0m in \u001b[0;36m_try_cast\u001b[0;34m(arr, dtype, copy, raise_cast_failure)\u001b[0m\n\u001b[1;32m    569\u001b[0m     \u001b[0;31m# perf shortcut as this is the most common case\u001b[0m\u001b[0;34m\u001b[0m\u001b[0;34m\u001b[0m\u001b[0;34m\u001b[0m\u001b[0m\n\u001b[1;32m    570\u001b[0m     \u001b[0;32mif\u001b[0m \u001b[0misinstance\u001b[0m\u001b[0;34m(\u001b[0m\u001b[0marr\u001b[0m\u001b[0;34m,\u001b[0m \u001b[0mnp\u001b[0m\u001b[0;34m.\u001b[0m\u001b[0mndarray\u001b[0m\u001b[0;34m)\u001b[0m\u001b[0;34m:\u001b[0m\u001b[0;34m\u001b[0m\u001b[0;34m\u001b[0m\u001b[0m\n\u001b[0;32m--> 571\u001b[0;31m         \u001b[0;32mif\u001b[0m \u001b[0mmaybe_castable\u001b[0m\u001b[0;34m(\u001b[0m\u001b[0marr\u001b[0m\u001b[0;34m)\u001b[0m \u001b[0;32mand\u001b[0m \u001b[0;32mnot\u001b[0m \u001b[0mcopy\u001b[0m \u001b[0;32mand\u001b[0m \u001b[0mdtype\u001b[0m \u001b[0;32mis\u001b[0m \u001b[0;32mNone\u001b[0m\u001b[0;34m:\u001b[0m\u001b[0;34m\u001b[0m\u001b[0;34m\u001b[0m\u001b[0m\n\u001b[0m\u001b[1;32m    572\u001b[0m             \u001b[0;32mreturn\u001b[0m \u001b[0marr\u001b[0m\u001b[0;34m\u001b[0m\u001b[0;34m\u001b[0m\u001b[0m\n\u001b[1;32m    573\u001b[0m \u001b[0;34m\u001b[0m\u001b[0m\n",
      "\u001b[0;32m~/HOME/.virtualenvs/venv_algo3/lib/python3.8/site-packages/pandas/core/dtypes/cast.py\u001b[0m in \u001b[0;36mmaybe_castable\u001b[0;34m(arr)\u001b[0m\n\u001b[1;32m   1268\u001b[0m         \u001b[0;32mreturn\u001b[0m \u001b[0mis_timedelta64_ns_dtype\u001b[0m\u001b[0;34m(\u001b[0m\u001b[0marr\u001b[0m\u001b[0;34m.\u001b[0m\u001b[0mdtype\u001b[0m\u001b[0;34m)\u001b[0m\u001b[0;34m\u001b[0m\u001b[0;34m\u001b[0m\u001b[0m\n\u001b[1;32m   1269\u001b[0m \u001b[0;34m\u001b[0m\u001b[0m\n\u001b[0;32m-> 1270\u001b[0;31m     \u001b[0;32mreturn\u001b[0m \u001b[0marr\u001b[0m\u001b[0;34m.\u001b[0m\u001b[0mdtype\u001b[0m\u001b[0;34m.\u001b[0m\u001b[0mname\u001b[0m \u001b[0;32mnot\u001b[0m \u001b[0;32min\u001b[0m \u001b[0mPOSSIBLY_CAST_DTYPES\u001b[0m\u001b[0;34m\u001b[0m\u001b[0;34m\u001b[0m\u001b[0m\n\u001b[0m\u001b[1;32m   1271\u001b[0m \u001b[0;34m\u001b[0m\u001b[0m\n\u001b[1;32m   1272\u001b[0m \u001b[0;34m\u001b[0m\u001b[0m\n",
      "\u001b[0;32m~/HOME/.virtualenvs/venv_algo3/lib/python3.8/site-packages/numpy/core/_dtype.py\u001b[0m in \u001b[0;36m_name_get\u001b[0;34m(dtype)\u001b[0m\n\u001b[1;32m    330\u001b[0m         \u001b[0mname\u001b[0m \u001b[0;34m=\u001b[0m \u001b[0mdtype\u001b[0m\u001b[0;34m.\u001b[0m\u001b[0mtype\u001b[0m\u001b[0;34m.\u001b[0m\u001b[0m__name__\u001b[0m\u001b[0;34m\u001b[0m\u001b[0;34m\u001b[0m\u001b[0m\n\u001b[1;32m    331\u001b[0m     \u001b[0;32melse\u001b[0m\u001b[0;34m:\u001b[0m\u001b[0;34m\u001b[0m\u001b[0;34m\u001b[0m\u001b[0m\n\u001b[0;32m--> 332\u001b[0;31m         \u001b[0mname\u001b[0m \u001b[0;34m=\u001b[0m \u001b[0m_kind_name\u001b[0m\u001b[0;34m(\u001b[0m\u001b[0mdtype\u001b[0m\u001b[0;34m)\u001b[0m\u001b[0;34m\u001b[0m\u001b[0;34m\u001b[0m\u001b[0m\n\u001b[0m\u001b[1;32m    333\u001b[0m \u001b[0;34m\u001b[0m\u001b[0m\n\u001b[1;32m    334\u001b[0m     \u001b[0;31m# append bit counts\u001b[0m\u001b[0;34m\u001b[0m\u001b[0;34m\u001b[0m\u001b[0;34m\u001b[0m\u001b[0m\n",
      "\u001b[0;32m~/HOME/.virtualenvs/venv_algo3/lib/python3.8/site-packages/numpy/core/_dtype.py\u001b[0m in \u001b[0;36m_kind_name\u001b[0;34m(dtype)\u001b[0m\n\u001b[1;32m     23\u001b[0m \u001b[0;34m\u001b[0m\u001b[0m\n\u001b[1;32m     24\u001b[0m \u001b[0;32mdef\u001b[0m \u001b[0m_kind_name\u001b[0m\u001b[0;34m(\u001b[0m\u001b[0mdtype\u001b[0m\u001b[0;34m)\u001b[0m\u001b[0;34m:\u001b[0m\u001b[0;34m\u001b[0m\u001b[0;34m\u001b[0m\u001b[0m\n\u001b[0;32m---> 25\u001b[0;31m     \u001b[0;32mtry\u001b[0m\u001b[0;34m:\u001b[0m\u001b[0;34m\u001b[0m\u001b[0;34m\u001b[0m\u001b[0m\n\u001b[0m\u001b[1;32m     26\u001b[0m         \u001b[0;32mreturn\u001b[0m \u001b[0m_kind_to_stem\u001b[0m\u001b[0;34m[\u001b[0m\u001b[0mdtype\u001b[0m\u001b[0;34m.\u001b[0m\u001b[0mkind\u001b[0m\u001b[0;34m]\u001b[0m\u001b[0;34m\u001b[0m\u001b[0;34m\u001b[0m\u001b[0m\n\u001b[1;32m     27\u001b[0m     \u001b[0;32mexcept\u001b[0m \u001b[0mKeyError\u001b[0m \u001b[0;32mas\u001b[0m \u001b[0me\u001b[0m\u001b[0;34m:\u001b[0m\u001b[0;34m\u001b[0m\u001b[0;34m\u001b[0m\u001b[0m\n",
      "\u001b[0;31mKeyboardInterrupt\u001b[0m: "
     ]
    }
   ],
   "source": [
    "for file in tqdm(files):\n",
    "#Leo el csv y le saco el EOF si lo tiene\n",
    "    print(f\"Estoy con {file}\\n\")\n",
    "    csv= pd.read_csv(file,delim_whitespace=True, skiprows= [0,1,2,3,4,5], names=[\"Nodo\", \"x\", \"y\"])\n",
    "\n",
    "    if len(csv) < 1379 or len(csv) > 20000 :\n",
    "        continue\n",
    "    if csv.iloc[-1]['Nodo'] == 'EOF':\n",
    "        csv = csv[:-1]\n",
    "\n",
    "    nuevoPath = csvPath+file[file.find('/'):file.rfind('.')]+'.csv'\n",
    "    f = open(file)\n",
    "    texto = f.read()\n",
    "    tipo = get_file_field(texto, regexType)\n",
    "    f.close()\n",
    "    guardar_matriz(csv, tipo,nuevoPath)\n"
   ]
  },
  {
   "cell_type": "code",
   "execution_count": null,
   "metadata": {},
   "outputs": [],
   "source": []
  }
 ],
 "metadata": {
  "kernelspec": {
   "display_name": "Python 3",
   "language": "python",
   "name": "python3"
  },
  "language_info": {
   "codemirror_mode": {
    "name": "ipython",
    "version": 3
   },
   "file_extension": ".py",
   "mimetype": "text/x-python",
   "name": "python",
   "nbconvert_exporter": "python",
   "pygments_lexer": "ipython3",
   "version": "3.8.5"
  }
 },
 "nbformat": 4,
 "nbformat_minor": 4
}
